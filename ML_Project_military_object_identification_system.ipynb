{
  "nbformat": 4,
  "nbformat_minor": 0,
  "metadata": {
    "colab": {
      "provenance": [],
      "gpuType": "T4",
      "include_colab_link": true
    },
    "kernelspec": {
      "name": "python3",
      "display_name": "Python 3"
    },
    "language_info": {
      "name": "python"
    },
    "accelerator": "GPU"
  },
  "cells": [
    {
      "cell_type": "markdown",
      "metadata": {
        "id": "view-in-github",
        "colab_type": "text"
      },
      "source": [
        "<a href=\"https://colab.research.google.com/github/AbhijithX0/2025-Frontend-dev-with-react-ADDON-Abhijith-binu-cse-ai-ml/blob/main/ML_Project_military_object_identification_system.ipynb\" target=\"_parent\"><img src=\"https://colab.research.google.com/assets/colab-badge.svg\" alt=\"Open In Colab\"/></a>"
      ]
    },
    {
      "cell_type": "code",
      "metadata": {
        "id": "d08a5ff9",
        "colab": {
          "base_uri": "https://localhost:8080/"
        },
        "outputId": "df00f4a2-731e-41ad-92a6-0fd3a0115192"
      },
      "source": [
        "!pip install ultralytics"
      ],
      "execution_count": 30,
      "outputs": [
        {
          "output_type": "stream",
          "name": "stdout",
          "text": [
            "Requirement already satisfied: ultralytics in /usr/local/lib/python3.12/dist-packages (8.3.217)\n",
            "Requirement already satisfied: numpy>=1.23.0 in /usr/local/lib/python3.12/dist-packages (from ultralytics) (2.0.2)\n",
            "Requirement already satisfied: matplotlib>=3.3.0 in /usr/local/lib/python3.12/dist-packages (from ultralytics) (3.10.0)\n",
            "Requirement already satisfied: opencv-python>=4.6.0 in /usr/local/lib/python3.12/dist-packages (from ultralytics) (4.12.0.88)\n",
            "Requirement already satisfied: pillow>=7.1.2 in /usr/local/lib/python3.12/dist-packages (from ultralytics) (11.3.0)\n",
            "Requirement already satisfied: pyyaml>=5.3.1 in /usr/local/lib/python3.12/dist-packages (from ultralytics) (6.0.3)\n",
            "Requirement already satisfied: requests>=2.23.0 in /usr/local/lib/python3.12/dist-packages (from ultralytics) (2.32.4)\n",
            "Requirement already satisfied: scipy>=1.4.1 in /usr/local/lib/python3.12/dist-packages (from ultralytics) (1.16.2)\n",
            "Requirement already satisfied: torch>=1.8.0 in /usr/local/lib/python3.12/dist-packages (from ultralytics) (2.8.0+cu126)\n",
            "Requirement already satisfied: torchvision>=0.9.0 in /usr/local/lib/python3.12/dist-packages (from ultralytics) (0.23.0+cu126)\n",
            "Requirement already satisfied: psutil in /usr/local/lib/python3.12/dist-packages (from ultralytics) (5.9.5)\n",
            "Requirement already satisfied: polars in /usr/local/lib/python3.12/dist-packages (from ultralytics) (1.25.2)\n",
            "Requirement already satisfied: ultralytics-thop>=2.0.0 in /usr/local/lib/python3.12/dist-packages (from ultralytics) (2.0.17)\n",
            "Requirement already satisfied: contourpy>=1.0.1 in /usr/local/lib/python3.12/dist-packages (from matplotlib>=3.3.0->ultralytics) (1.3.3)\n",
            "Requirement already satisfied: cycler>=0.10 in /usr/local/lib/python3.12/dist-packages (from matplotlib>=3.3.0->ultralytics) (0.12.1)\n",
            "Requirement already satisfied: fonttools>=4.22.0 in /usr/local/lib/python3.12/dist-packages (from matplotlib>=3.3.0->ultralytics) (4.60.1)\n",
            "Requirement already satisfied: kiwisolver>=1.3.1 in /usr/local/lib/python3.12/dist-packages (from matplotlib>=3.3.0->ultralytics) (1.4.9)\n",
            "Requirement already satisfied: packaging>=20.0 in /usr/local/lib/python3.12/dist-packages (from matplotlib>=3.3.0->ultralytics) (25.0)\n",
            "Requirement already satisfied: pyparsing>=2.3.1 in /usr/local/lib/python3.12/dist-packages (from matplotlib>=3.3.0->ultralytics) (3.2.5)\n",
            "Requirement already satisfied: python-dateutil>=2.7 in /usr/local/lib/python3.12/dist-packages (from matplotlib>=3.3.0->ultralytics) (2.9.0.post0)\n",
            "Requirement already satisfied: charset_normalizer<4,>=2 in /usr/local/lib/python3.12/dist-packages (from requests>=2.23.0->ultralytics) (3.4.4)\n",
            "Requirement already satisfied: idna<4,>=2.5 in /usr/local/lib/python3.12/dist-packages (from requests>=2.23.0->ultralytics) (3.11)\n",
            "Requirement already satisfied: urllib3<3,>=1.21.1 in /usr/local/lib/python3.12/dist-packages (from requests>=2.23.0->ultralytics) (2.5.0)\n",
            "Requirement already satisfied: certifi>=2017.4.17 in /usr/local/lib/python3.12/dist-packages (from requests>=2.23.0->ultralytics) (2025.10.5)\n",
            "Requirement already satisfied: filelock in /usr/local/lib/python3.12/dist-packages (from torch>=1.8.0->ultralytics) (3.20.0)\n",
            "Requirement already satisfied: typing-extensions>=4.10.0 in /usr/local/lib/python3.12/dist-packages (from torch>=1.8.0->ultralytics) (4.15.0)\n",
            "Requirement already satisfied: setuptools in /usr/local/lib/python3.12/dist-packages (from torch>=1.8.0->ultralytics) (75.2.0)\n",
            "Requirement already satisfied: sympy>=1.13.3 in /usr/local/lib/python3.12/dist-packages (from torch>=1.8.0->ultralytics) (1.13.3)\n",
            "Requirement already satisfied: networkx in /usr/local/lib/python3.12/dist-packages (from torch>=1.8.0->ultralytics) (3.5)\n",
            "Requirement already satisfied: jinja2 in /usr/local/lib/python3.12/dist-packages (from torch>=1.8.0->ultralytics) (3.1.6)\n",
            "Requirement already satisfied: fsspec in /usr/local/lib/python3.12/dist-packages (from torch>=1.8.0->ultralytics) (2025.3.0)\n",
            "Requirement already satisfied: nvidia-cuda-nvrtc-cu12==12.6.77 in /usr/local/lib/python3.12/dist-packages (from torch>=1.8.0->ultralytics) (12.6.77)\n",
            "Requirement already satisfied: nvidia-cuda-runtime-cu12==12.6.77 in /usr/local/lib/python3.12/dist-packages (from torch>=1.8.0->ultralytics) (12.6.77)\n",
            "Requirement already satisfied: nvidia-cuda-cupti-cu12==12.6.80 in /usr/local/lib/python3.12/dist-packages (from torch>=1.8.0->ultralytics) (12.6.80)\n",
            "Requirement already satisfied: nvidia-cudnn-cu12==9.10.2.21 in /usr/local/lib/python3.12/dist-packages (from torch>=1.8.0->ultralytics) (9.10.2.21)\n",
            "Requirement already satisfied: nvidia-cublas-cu12==12.6.4.1 in /usr/local/lib/python3.12/dist-packages (from torch>=1.8.0->ultralytics) (12.6.4.1)\n",
            "Requirement already satisfied: nvidia-cufft-cu12==11.3.0.4 in /usr/local/lib/python3.12/dist-packages (from torch>=1.8.0->ultralytics) (11.3.0.4)\n",
            "Requirement already satisfied: nvidia-curand-cu12==10.3.7.77 in /usr/local/lib/python3.12/dist-packages (from torch>=1.8.0->ultralytics) (10.3.7.77)\n",
            "Requirement already satisfied: nvidia-cusolver-cu12==11.7.1.2 in /usr/local/lib/python3.12/dist-packages (from torch>=1.8.0->ultralytics) (11.7.1.2)\n",
            "Requirement already satisfied: nvidia-cusparse-cu12==12.5.4.2 in /usr/local/lib/python3.12/dist-packages (from torch>=1.8.0->ultralytics) (12.5.4.2)\n",
            "Requirement already satisfied: nvidia-cusparselt-cu12==0.7.1 in /usr/local/lib/python3.12/dist-packages (from torch>=1.8.0->ultralytics) (0.7.1)\n",
            "Requirement already satisfied: nvidia-nccl-cu12==2.27.3 in /usr/local/lib/python3.12/dist-packages (from torch>=1.8.0->ultralytics) (2.27.3)\n",
            "Requirement already satisfied: nvidia-nvtx-cu12==12.6.77 in /usr/local/lib/python3.12/dist-packages (from torch>=1.8.0->ultralytics) (12.6.77)\n",
            "Requirement already satisfied: nvidia-nvjitlink-cu12==12.6.85 in /usr/local/lib/python3.12/dist-packages (from torch>=1.8.0->ultralytics) (12.6.85)\n",
            "Requirement already satisfied: nvidia-cufile-cu12==1.11.1.6 in /usr/local/lib/python3.12/dist-packages (from torch>=1.8.0->ultralytics) (1.11.1.6)\n",
            "Requirement already satisfied: triton==3.4.0 in /usr/local/lib/python3.12/dist-packages (from torch>=1.8.0->ultralytics) (3.4.0)\n",
            "Requirement already satisfied: six>=1.5 in /usr/local/lib/python3.12/dist-packages (from python-dateutil>=2.7->matplotlib>=3.3.0->ultralytics) (1.17.0)\n",
            "Requirement already satisfied: mpmath<1.4,>=1.1.0 in /usr/local/lib/python3.12/dist-packages (from sympy>=1.13.3->torch>=1.8.0->ultralytics) (1.3.0)\n",
            "Requirement already satisfied: MarkupSafe>=2.0 in /usr/local/lib/python3.12/dist-packages (from jinja2->torch>=1.8.0->ultralytics) (3.0.3)\n"
          ]
        }
      ]
    },
    {
      "cell_type": "code",
      "source": [
        "from google.colab import files\n",
        "\n",
        "# This command opens a file selection dialog.\n",
        "# Please select your kaggle.json file when prompted.\n",
        "uploaded = files.upload()\n",
        "\n",
        "# The file(s) are now in the current working directory, e.g., '/content/'.\n",
        "# The 'uploaded' dictionary contains the file name as a key.\n",
        "for filename in uploaded.keys():\n",
        "    print(f\"File '{filename}' uploaded successfully!\")"
      ],
      "metadata": {
        "colab": {
          "base_uri": "https://localhost:8080/",
          "height": 90
        },
        "id": "uNkjE9HmC9lH",
        "outputId": "1a97c0b2-0074-43a6-9315-c3187fd27d5b"
      },
      "execution_count": 31,
      "outputs": [
        {
          "output_type": "display_data",
          "data": {
            "text/plain": [
              "<IPython.core.display.HTML object>"
            ],
            "text/html": [
              "\n",
              "     <input type=\"file\" id=\"files-530750e6-6ab6-41a9-9c6b-c41ee784651b\" name=\"files[]\" multiple disabled\n",
              "        style=\"border:none\" />\n",
              "     <output id=\"result-530750e6-6ab6-41a9-9c6b-c41ee784651b\">\n",
              "      Upload widget is only available when the cell has been executed in the\n",
              "      current browser session. Please rerun this cell to enable.\n",
              "      </output>\n",
              "      <script>// Copyright 2017 Google LLC\n",
              "//\n",
              "// Licensed under the Apache License, Version 2.0 (the \"License\");\n",
              "// you may not use this file except in compliance with the License.\n",
              "// You may obtain a copy of the License at\n",
              "//\n",
              "//      http://www.apache.org/licenses/LICENSE-2.0\n",
              "//\n",
              "// Unless required by applicable law or agreed to in writing, software\n",
              "// distributed under the License is distributed on an \"AS IS\" BASIS,\n",
              "// WITHOUT WARRANTIES OR CONDITIONS OF ANY KIND, either express or implied.\n",
              "// See the License for the specific language governing permissions and\n",
              "// limitations under the License.\n",
              "\n",
              "/**\n",
              " * @fileoverview Helpers for google.colab Python module.\n",
              " */\n",
              "(function(scope) {\n",
              "function span(text, styleAttributes = {}) {\n",
              "  const element = document.createElement('span');\n",
              "  element.textContent = text;\n",
              "  for (const key of Object.keys(styleAttributes)) {\n",
              "    element.style[key] = styleAttributes[key];\n",
              "  }\n",
              "  return element;\n",
              "}\n",
              "\n",
              "// Max number of bytes which will be uploaded at a time.\n",
              "const MAX_PAYLOAD_SIZE = 100 * 1024;\n",
              "\n",
              "function _uploadFiles(inputId, outputId) {\n",
              "  const steps = uploadFilesStep(inputId, outputId);\n",
              "  const outputElement = document.getElementById(outputId);\n",
              "  // Cache steps on the outputElement to make it available for the next call\n",
              "  // to uploadFilesContinue from Python.\n",
              "  outputElement.steps = steps;\n",
              "\n",
              "  return _uploadFilesContinue(outputId);\n",
              "}\n",
              "\n",
              "// This is roughly an async generator (not supported in the browser yet),\n",
              "// where there are multiple asynchronous steps and the Python side is going\n",
              "// to poll for completion of each step.\n",
              "// This uses a Promise to block the python side on completion of each step,\n",
              "// then passes the result of the previous step as the input to the next step.\n",
              "function _uploadFilesContinue(outputId) {\n",
              "  const outputElement = document.getElementById(outputId);\n",
              "  const steps = outputElement.steps;\n",
              "\n",
              "  const next = steps.next(outputElement.lastPromiseValue);\n",
              "  return Promise.resolve(next.value.promise).then((value) => {\n",
              "    // Cache the last promise value to make it available to the next\n",
              "    // step of the generator.\n",
              "    outputElement.lastPromiseValue = value;\n",
              "    return next.value.response;\n",
              "  });\n",
              "}\n",
              "\n",
              "/**\n",
              " * Generator function which is called between each async step of the upload\n",
              " * process.\n",
              " * @param {string} inputId Element ID of the input file picker element.\n",
              " * @param {string} outputId Element ID of the output display.\n",
              " * @return {!Iterable<!Object>} Iterable of next steps.\n",
              " */\n",
              "function* uploadFilesStep(inputId, outputId) {\n",
              "  const inputElement = document.getElementById(inputId);\n",
              "  inputElement.disabled = false;\n",
              "\n",
              "  const outputElement = document.getElementById(outputId);\n",
              "  outputElement.innerHTML = '';\n",
              "\n",
              "  const pickedPromise = new Promise((resolve) => {\n",
              "    inputElement.addEventListener('change', (e) => {\n",
              "      resolve(e.target.files);\n",
              "    });\n",
              "  });\n",
              "\n",
              "  const cancel = document.createElement('button');\n",
              "  inputElement.parentElement.appendChild(cancel);\n",
              "  cancel.textContent = 'Cancel upload';\n",
              "  const cancelPromise = new Promise((resolve) => {\n",
              "    cancel.onclick = () => {\n",
              "      resolve(null);\n",
              "    };\n",
              "  });\n",
              "\n",
              "  // Wait for the user to pick the files.\n",
              "  const files = yield {\n",
              "    promise: Promise.race([pickedPromise, cancelPromise]),\n",
              "    response: {\n",
              "      action: 'starting',\n",
              "    }\n",
              "  };\n",
              "\n",
              "  cancel.remove();\n",
              "\n",
              "  // Disable the input element since further picks are not allowed.\n",
              "  inputElement.disabled = true;\n",
              "\n",
              "  if (!files) {\n",
              "    return {\n",
              "      response: {\n",
              "        action: 'complete',\n",
              "      }\n",
              "    };\n",
              "  }\n",
              "\n",
              "  for (const file of files) {\n",
              "    const li = document.createElement('li');\n",
              "    li.append(span(file.name, {fontWeight: 'bold'}));\n",
              "    li.append(span(\n",
              "        `(${file.type || 'n/a'}) - ${file.size} bytes, ` +\n",
              "        `last modified: ${\n",
              "            file.lastModifiedDate ? file.lastModifiedDate.toLocaleDateString() :\n",
              "                                    'n/a'} - `));\n",
              "    const percent = span('0% done');\n",
              "    li.appendChild(percent);\n",
              "\n",
              "    outputElement.appendChild(li);\n",
              "\n",
              "    const fileDataPromise = new Promise((resolve) => {\n",
              "      const reader = new FileReader();\n",
              "      reader.onload = (e) => {\n",
              "        resolve(e.target.result);\n",
              "      };\n",
              "      reader.readAsArrayBuffer(file);\n",
              "    });\n",
              "    // Wait for the data to be ready.\n",
              "    let fileData = yield {\n",
              "      promise: fileDataPromise,\n",
              "      response: {\n",
              "        action: 'continue',\n",
              "      }\n",
              "    };\n",
              "\n",
              "    // Use a chunked sending to avoid message size limits. See b/62115660.\n",
              "    let position = 0;\n",
              "    do {\n",
              "      const length = Math.min(fileData.byteLength - position, MAX_PAYLOAD_SIZE);\n",
              "      const chunk = new Uint8Array(fileData, position, length);\n",
              "      position += length;\n",
              "\n",
              "      const base64 = btoa(String.fromCharCode.apply(null, chunk));\n",
              "      yield {\n",
              "        response: {\n",
              "          action: 'append',\n",
              "          file: file.name,\n",
              "          data: base64,\n",
              "        },\n",
              "      };\n",
              "\n",
              "      let percentDone = fileData.byteLength === 0 ?\n",
              "          100 :\n",
              "          Math.round((position / fileData.byteLength) * 100);\n",
              "      percent.textContent = `${percentDone}% done`;\n",
              "\n",
              "    } while (position < fileData.byteLength);\n",
              "  }\n",
              "\n",
              "  // All done.\n",
              "  yield {\n",
              "    response: {\n",
              "      action: 'complete',\n",
              "    }\n",
              "  };\n",
              "}\n",
              "\n",
              "scope.google = scope.google || {};\n",
              "scope.google.colab = scope.google.colab || {};\n",
              "scope.google.colab._files = {\n",
              "  _uploadFiles,\n",
              "  _uploadFilesContinue,\n",
              "};\n",
              "})(self);\n",
              "</script> "
            ]
          },
          "metadata": {}
        },
        {
          "output_type": "stream",
          "name": "stdout",
          "text": [
            "Saving kaggle (1).json to kaggle (1).json\n",
            "File 'kaggle (1).json' uploaded successfully!\n"
          ]
        }
      ]
    },
    {
      "cell_type": "code",
      "source": [
        "!pip install ultralytics\n",
        "from ultralytics import YOLO\n",
        "import os\n",
        "\n",
        "# Load your best trained model weights.\n",
        "# The path below assumes your last training run was named 'train'.\n",
        "# If you have multiple runs, you may need to update 'train' to 'train2', 'train3', etc.\n",
        "model_path = \"/content/runs/detect/train8/weights/best.pt\"\n",
        "\n",
        "# Check if the model file exists\n",
        "if not os.path.exists(model_path):\n",
        "    print(f\"Error: Model file not found at {model_path}\")\n",
        "else:\n",
        "    model = YOLO(model_path)\n",
        "\n",
        "    # Get the name of the uploaded file.\n",
        "    # We'll assume you only uploaded one file for this example.\n",
        "    uploaded_filename = list(uploaded.keys())[0]\n",
        "\n",
        "    # Construct the full path to the uploaded image.\n",
        "    image_path = f\"/content/{uploaded_filename}\"\n",
        "\n",
        "    # Run inference on the single, uploaded image.\n",
        "    # The results will be stored in the 'results' object.\n",
        "    results = model(image_path)\n",
        "\n",
        "    # Save and display the results.\n",
        "    # The r.save() method will save the predicted image with bounding boxes\n",
        "    # and labels to a new directory like 'runs/detect/predict'.\n",
        "    for r in results:\n",
        "        r.save()\n",
        "        r.show()"
      ],
      "metadata": {
        "colab": {
          "base_uri": "https://localhost:8080/"
        },
        "id": "_0ArMRLFDHaX",
        "outputId": "19cd7f22-4c3d-4906-8fff-316277cd50ec"
      },
      "execution_count": 32,
      "outputs": [
        {
          "output_type": "stream",
          "name": "stdout",
          "text": [
            "Requirement already satisfied: ultralytics in /usr/local/lib/python3.12/dist-packages (8.3.217)\n",
            "Requirement already satisfied: numpy>=1.23.0 in /usr/local/lib/python3.12/dist-packages (from ultralytics) (2.0.2)\n",
            "Requirement already satisfied: matplotlib>=3.3.0 in /usr/local/lib/python3.12/dist-packages (from ultralytics) (3.10.0)\n",
            "Requirement already satisfied: opencv-python>=4.6.0 in /usr/local/lib/python3.12/dist-packages (from ultralytics) (4.12.0.88)\n",
            "Requirement already satisfied: pillow>=7.1.2 in /usr/local/lib/python3.12/dist-packages (from ultralytics) (11.3.0)\n",
            "Requirement already satisfied: pyyaml>=5.3.1 in /usr/local/lib/python3.12/dist-packages (from ultralytics) (6.0.3)\n",
            "Requirement already satisfied: requests>=2.23.0 in /usr/local/lib/python3.12/dist-packages (from ultralytics) (2.32.4)\n",
            "Requirement already satisfied: scipy>=1.4.1 in /usr/local/lib/python3.12/dist-packages (from ultralytics) (1.16.2)\n",
            "Requirement already satisfied: torch>=1.8.0 in /usr/local/lib/python3.12/dist-packages (from ultralytics) (2.8.0+cu126)\n",
            "Requirement already satisfied: torchvision>=0.9.0 in /usr/local/lib/python3.12/dist-packages (from ultralytics) (0.23.0+cu126)\n",
            "Requirement already satisfied: psutil in /usr/local/lib/python3.12/dist-packages (from ultralytics) (5.9.5)\n",
            "Requirement already satisfied: polars in /usr/local/lib/python3.12/dist-packages (from ultralytics) (1.25.2)\n",
            "Requirement already satisfied: ultralytics-thop>=2.0.0 in /usr/local/lib/python3.12/dist-packages (from ultralytics) (2.0.17)\n",
            "Requirement already satisfied: contourpy>=1.0.1 in /usr/local/lib/python3.12/dist-packages (from matplotlib>=3.3.0->ultralytics) (1.3.3)\n",
            "Requirement already satisfied: cycler>=0.10 in /usr/local/lib/python3.12/dist-packages (from matplotlib>=3.3.0->ultralytics) (0.12.1)\n",
            "Requirement already satisfied: fonttools>=4.22.0 in /usr/local/lib/python3.12/dist-packages (from matplotlib>=3.3.0->ultralytics) (4.60.1)\n",
            "Requirement already satisfied: kiwisolver>=1.3.1 in /usr/local/lib/python3.12/dist-packages (from matplotlib>=3.3.0->ultralytics) (1.4.9)\n",
            "Requirement already satisfied: packaging>=20.0 in /usr/local/lib/python3.12/dist-packages (from matplotlib>=3.3.0->ultralytics) (25.0)\n",
            "Requirement already satisfied: pyparsing>=2.3.1 in /usr/local/lib/python3.12/dist-packages (from matplotlib>=3.3.0->ultralytics) (3.2.5)\n",
            "Requirement already satisfied: python-dateutil>=2.7 in /usr/local/lib/python3.12/dist-packages (from matplotlib>=3.3.0->ultralytics) (2.9.0.post0)\n",
            "Requirement already satisfied: charset_normalizer<4,>=2 in /usr/local/lib/python3.12/dist-packages (from requests>=2.23.0->ultralytics) (3.4.4)\n",
            "Requirement already satisfied: idna<4,>=2.5 in /usr/local/lib/python3.12/dist-packages (from requests>=2.23.0->ultralytics) (3.11)\n",
            "Requirement already satisfied: urllib3<3,>=1.21.1 in /usr/local/lib/python3.12/dist-packages (from requests>=2.23.0->ultralytics) (2.5.0)\n",
            "Requirement already satisfied: certifi>=2017.4.17 in /usr/local/lib/python3.12/dist-packages (from requests>=2.23.0->ultralytics) (2025.10.5)\n",
            "Requirement already satisfied: filelock in /usr/local/lib/python3.12/dist-packages (from torch>=1.8.0->ultralytics) (3.20.0)\n",
            "Requirement already satisfied: typing-extensions>=4.10.0 in /usr/local/lib/python3.12/dist-packages (from torch>=1.8.0->ultralytics) (4.15.0)\n",
            "Requirement already satisfied: setuptools in /usr/local/lib/python3.12/dist-packages (from torch>=1.8.0->ultralytics) (75.2.0)\n",
            "Requirement already satisfied: sympy>=1.13.3 in /usr/local/lib/python3.12/dist-packages (from torch>=1.8.0->ultralytics) (1.13.3)\n",
            "Requirement already satisfied: networkx in /usr/local/lib/python3.12/dist-packages (from torch>=1.8.0->ultralytics) (3.5)\n",
            "Requirement already satisfied: jinja2 in /usr/local/lib/python3.12/dist-packages (from torch>=1.8.0->ultralytics) (3.1.6)\n",
            "Requirement already satisfied: fsspec in /usr/local/lib/python3.12/dist-packages (from torch>=1.8.0->ultralytics) (2025.3.0)\n",
            "Requirement already satisfied: nvidia-cuda-nvrtc-cu12==12.6.77 in /usr/local/lib/python3.12/dist-packages (from torch>=1.8.0->ultralytics) (12.6.77)\n",
            "Requirement already satisfied: nvidia-cuda-runtime-cu12==12.6.77 in /usr/local/lib/python3.12/dist-packages (from torch>=1.8.0->ultralytics) (12.6.77)\n",
            "Requirement already satisfied: nvidia-cuda-cupti-cu12==12.6.80 in /usr/local/lib/python3.12/dist-packages (from torch>=1.8.0->ultralytics) (12.6.80)\n",
            "Requirement already satisfied: nvidia-cudnn-cu12==9.10.2.21 in /usr/local/lib/python3.12/dist-packages (from torch>=1.8.0->ultralytics) (9.10.2.21)\n",
            "Requirement already satisfied: nvidia-cublas-cu12==12.6.4.1 in /usr/local/lib/python3.12/dist-packages (from torch>=1.8.0->ultralytics) (12.6.4.1)\n",
            "Requirement already satisfied: nvidia-cufft-cu12==11.3.0.4 in /usr/local/lib/python3.12/dist-packages (from torch>=1.8.0->ultralytics) (11.3.0.4)\n",
            "Requirement already satisfied: nvidia-curand-cu12==10.3.7.77 in /usr/local/lib/python3.12/dist-packages (from torch>=1.8.0->ultralytics) (10.3.7.77)\n",
            "Requirement already satisfied: nvidia-cusolver-cu12==11.7.1.2 in /usr/local/lib/python3.12/dist-packages (from torch>=1.8.0->ultralytics) (11.7.1.2)\n",
            "Requirement already satisfied: nvidia-cusparse-cu12==12.5.4.2 in /usr/local/lib/python3.12/dist-packages (from torch>=1.8.0->ultralytics) (12.5.4.2)\n",
            "Requirement already satisfied: nvidia-cusparselt-cu12==0.7.1 in /usr/local/lib/python3.12/dist-packages (from torch>=1.8.0->ultralytics) (0.7.1)\n",
            "Requirement already satisfied: nvidia-nccl-cu12==2.27.3 in /usr/local/lib/python3.12/dist-packages (from torch>=1.8.0->ultralytics) (2.27.3)\n",
            "Requirement already satisfied: nvidia-nvtx-cu12==12.6.77 in /usr/local/lib/python3.12/dist-packages (from torch>=1.8.0->ultralytics) (12.6.77)\n",
            "Requirement already satisfied: nvidia-nvjitlink-cu12==12.6.85 in /usr/local/lib/python3.12/dist-packages (from torch>=1.8.0->ultralytics) (12.6.85)\n",
            "Requirement already satisfied: nvidia-cufile-cu12==1.11.1.6 in /usr/local/lib/python3.12/dist-packages (from torch>=1.8.0->ultralytics) (1.11.1.6)\n",
            "Requirement already satisfied: triton==3.4.0 in /usr/local/lib/python3.12/dist-packages (from torch>=1.8.0->ultralytics) (3.4.0)\n",
            "Requirement already satisfied: six>=1.5 in /usr/local/lib/python3.12/dist-packages (from python-dateutil>=2.7->matplotlib>=3.3.0->ultralytics) (1.17.0)\n",
            "Requirement already satisfied: mpmath<1.4,>=1.1.0 in /usr/local/lib/python3.12/dist-packages (from sympy>=1.13.3->torch>=1.8.0->ultralytics) (1.3.0)\n",
            "Requirement already satisfied: MarkupSafe>=2.0 in /usr/local/lib/python3.12/dist-packages (from jinja2->torch>=1.8.0->ultralytics) (3.0.3)\n",
            "Error: Model file not found at /content/runs/detect/train8/weights/best.pt\n"
          ]
        }
      ]
    },
    {
      "cell_type": "code",
      "source": [
        "!mkdir -p ~/.kaggle\n",
        "!cp kaggle.json ~/.kaggle/"
      ],
      "metadata": {
        "id": "NPHDiJrr4IUS",
        "colab": {
          "base_uri": "https://localhost:8080/"
        },
        "outputId": "e413bec0-680a-463d-cd20-4e8b245db40d"
      },
      "execution_count": null,
      "outputs": [
        {
          "output_type": "stream",
          "name": "stdout",
          "text": [
            "cp: cannot stat 'kaggle.json': No such file or directory\n"
          ]
        }
      ]
    },
    {
      "cell_type": "code",
      "source": [
        "!chmod 600 ~/.kaggle/kaggle.json"
      ],
      "metadata": {
        "id": "aCoidEbr4Lxr",
        "colab": {
          "base_uri": "https://localhost:8080/"
        },
        "outputId": "775e90f3-e7f4-45c0-9a2f-b49642d6daa6"
      },
      "execution_count": null,
      "outputs": [
        {
          "output_type": "stream",
          "name": "stdout",
          "text": [
            "chmod: cannot access '/root/.kaggle/kaggle.json': No such file or directory\n"
          ]
        }
      ]
    },
    {
      "cell_type": "code",
      "source": [
        "!kaggle datasets download -d sudipchakrabarty/kiit-mita\n"
      ],
      "metadata": {
        "colab": {
          "base_uri": "https://localhost:8080/"
        },
        "id": "1vdvVBFf4ODp",
        "outputId": "5b96b146-3800-49a5-aa13-e06265c57b87"
      },
      "execution_count": null,
      "outputs": [
        {
          "output_type": "stream",
          "name": "stdout",
          "text": [
            "Traceback (most recent call last):\n",
            "  File \"/usr/local/bin/kaggle\", line 10, in <module>\n",
            "    sys.exit(main())\n",
            "             ^^^^^^\n",
            "  File \"/usr/local/lib/python3.12/dist-packages/kaggle/cli.py\", line 68, in main\n",
            "    out = args.func(**command_args)\n",
            "          ^^^^^^^^^^^^^^^^^^^^^^^^^\n",
            "  File \"/usr/local/lib/python3.12/dist-packages/kaggle/api/kaggle_api_extended.py\", line 1741, in dataset_download_cli\n",
            "    with self.build_kaggle_client() as kaggle:\n",
            "         ^^^^^^^^^^^^^^^^^^^^^^^^^^\n",
            "  File \"/usr/local/lib/python3.12/dist-packages/kaggle/api/kaggle_api_extended.py\", line 688, in build_kaggle_client\n",
            "    username=self.config_values['username'],\n",
            "             ~~~~~~~~~~~~~~~~~~^^^^^^^^^^^^\n",
            "KeyError: 'username'\n"
          ]
        }
      ]
    },
    {
      "cell_type": "code",
      "source": [
        "!unzip kiit-mita.zip\n"
      ],
      "metadata": {
        "colab": {
          "base_uri": "https://localhost:8080/"
        },
        "id": "1olQTPZv4XiE",
        "outputId": "beb65b0c-689c-4864-f717-8fd9df725383"
      },
      "execution_count": null,
      "outputs": [
        {
          "output_type": "stream",
          "name": "stdout",
          "text": [
            "unzip:  cannot find or open kiit-mita.zip, kiit-mita.zip.zip or kiit-mita.zip.ZIP.\n"
          ]
        }
      ]
    },
    {
      "cell_type": "code",
      "source": [
        "!pip install ultralytics\n",
        "from ultralytics import YOLO\n",
        "model = YOLO(\"yolo11n.pt\")"
      ],
      "metadata": {
        "colab": {
          "base_uri": "https://localhost:8080/"
        },
        "id": "KNP_3zHN4dAT",
        "outputId": "80692b02-d9ef-4c2b-fe32-29ed4774474a"
      },
      "execution_count": null,
      "outputs": [
        {
          "output_type": "stream",
          "name": "stdout",
          "text": [
            "Requirement already satisfied: ultralytics in /usr/local/lib/python3.12/dist-packages (8.3.217)\n",
            "Requirement already satisfied: numpy>=1.23.0 in /usr/local/lib/python3.12/dist-packages (from ultralytics) (2.0.2)\n",
            "Requirement already satisfied: matplotlib>=3.3.0 in /usr/local/lib/python3.12/dist-packages (from ultralytics) (3.10.0)\n",
            "Requirement already satisfied: opencv-python>=4.6.0 in /usr/local/lib/python3.12/dist-packages (from ultralytics) (4.12.0.88)\n",
            "Requirement already satisfied: pillow>=7.1.2 in /usr/local/lib/python3.12/dist-packages (from ultralytics) (11.3.0)\n",
            "Requirement already satisfied: pyyaml>=5.3.1 in /usr/local/lib/python3.12/dist-packages (from ultralytics) (6.0.3)\n",
            "Requirement already satisfied: requests>=2.23.0 in /usr/local/lib/python3.12/dist-packages (from ultralytics) (2.32.4)\n",
            "Requirement already satisfied: scipy>=1.4.1 in /usr/local/lib/python3.12/dist-packages (from ultralytics) (1.16.2)\n",
            "Requirement already satisfied: torch>=1.8.0 in /usr/local/lib/python3.12/dist-packages (from ultralytics) (2.8.0+cu126)\n",
            "Requirement already satisfied: torchvision>=0.9.0 in /usr/local/lib/python3.12/dist-packages (from ultralytics) (0.23.0+cu126)\n",
            "Requirement already satisfied: psutil in /usr/local/lib/python3.12/dist-packages (from ultralytics) (5.9.5)\n",
            "Requirement already satisfied: polars in /usr/local/lib/python3.12/dist-packages (from ultralytics) (1.25.2)\n",
            "Requirement already satisfied: ultralytics-thop>=2.0.0 in /usr/local/lib/python3.12/dist-packages (from ultralytics) (2.0.17)\n",
            "Requirement already satisfied: contourpy>=1.0.1 in /usr/local/lib/python3.12/dist-packages (from matplotlib>=3.3.0->ultralytics) (1.3.3)\n",
            "Requirement already satisfied: cycler>=0.10 in /usr/local/lib/python3.12/dist-packages (from matplotlib>=3.3.0->ultralytics) (0.12.1)\n",
            "Requirement already satisfied: fonttools>=4.22.0 in /usr/local/lib/python3.12/dist-packages (from matplotlib>=3.3.0->ultralytics) (4.60.1)\n",
            "Requirement already satisfied: kiwisolver>=1.3.1 in /usr/local/lib/python3.12/dist-packages (from matplotlib>=3.3.0->ultralytics) (1.4.9)\n",
            "Requirement already satisfied: packaging>=20.0 in /usr/local/lib/python3.12/dist-packages (from matplotlib>=3.3.0->ultralytics) (25.0)\n",
            "Requirement already satisfied: pyparsing>=2.3.1 in /usr/local/lib/python3.12/dist-packages (from matplotlib>=3.3.0->ultralytics) (3.2.5)\n",
            "Requirement already satisfied: python-dateutil>=2.7 in /usr/local/lib/python3.12/dist-packages (from matplotlib>=3.3.0->ultralytics) (2.9.0.post0)\n",
            "Requirement already satisfied: charset_normalizer<4,>=2 in /usr/local/lib/python3.12/dist-packages (from requests>=2.23.0->ultralytics) (3.4.4)\n",
            "Requirement already satisfied: idna<4,>=2.5 in /usr/local/lib/python3.12/dist-packages (from requests>=2.23.0->ultralytics) (3.11)\n",
            "Requirement already satisfied: urllib3<3,>=1.21.1 in /usr/local/lib/python3.12/dist-packages (from requests>=2.23.0->ultralytics) (2.5.0)\n",
            "Requirement already satisfied: certifi>=2017.4.17 in /usr/local/lib/python3.12/dist-packages (from requests>=2.23.0->ultralytics) (2025.10.5)\n",
            "Requirement already satisfied: filelock in /usr/local/lib/python3.12/dist-packages (from torch>=1.8.0->ultralytics) (3.20.0)\n",
            "Requirement already satisfied: typing-extensions>=4.10.0 in /usr/local/lib/python3.12/dist-packages (from torch>=1.8.0->ultralytics) (4.15.0)\n",
            "Requirement already satisfied: setuptools in /usr/local/lib/python3.12/dist-packages (from torch>=1.8.0->ultralytics) (75.2.0)\n",
            "Requirement already satisfied: sympy>=1.13.3 in /usr/local/lib/python3.12/dist-packages (from torch>=1.8.0->ultralytics) (1.13.3)\n",
            "Requirement already satisfied: networkx in /usr/local/lib/python3.12/dist-packages (from torch>=1.8.0->ultralytics) (3.5)\n",
            "Requirement already satisfied: jinja2 in /usr/local/lib/python3.12/dist-packages (from torch>=1.8.0->ultralytics) (3.1.6)\n",
            "Requirement already satisfied: fsspec in /usr/local/lib/python3.12/dist-packages (from torch>=1.8.0->ultralytics) (2025.3.0)\n",
            "Requirement already satisfied: nvidia-cuda-nvrtc-cu12==12.6.77 in /usr/local/lib/python3.12/dist-packages (from torch>=1.8.0->ultralytics) (12.6.77)\n",
            "Requirement already satisfied: nvidia-cuda-runtime-cu12==12.6.77 in /usr/local/lib/python3.12/dist-packages (from torch>=1.8.0->ultralytics) (12.6.77)\n",
            "Requirement already satisfied: nvidia-cuda-cupti-cu12==12.6.80 in /usr/local/lib/python3.12/dist-packages (from torch>=1.8.0->ultralytics) (12.6.80)\n",
            "Requirement already satisfied: nvidia-cudnn-cu12==9.10.2.21 in /usr/local/lib/python3.12/dist-packages (from torch>=1.8.0->ultralytics) (9.10.2.21)\n",
            "Requirement already satisfied: nvidia-cublas-cu12==12.6.4.1 in /usr/local/lib/python3.12/dist-packages (from torch>=1.8.0->ultralytics) (12.6.4.1)\n",
            "Requirement already satisfied: nvidia-cufft-cu12==11.3.0.4 in /usr/local/lib/python3.12/dist-packages (from torch>=1.8.0->ultralytics) (11.3.0.4)\n",
            "Requirement already satisfied: nvidia-curand-cu12==10.3.7.77 in /usr/local/lib/python3.12/dist-packages (from torch>=1.8.0->ultralytics) (10.3.7.77)\n",
            "Requirement already satisfied: nvidia-cusolver-cu12==11.7.1.2 in /usr/local/lib/python3.12/dist-packages (from torch>=1.8.0->ultralytics) (11.7.1.2)\n",
            "Requirement already satisfied: nvidia-cusparse-cu12==12.5.4.2 in /usr/local/lib/python3.12/dist-packages (from torch>=1.8.0->ultralytics) (12.5.4.2)\n",
            "Requirement already satisfied: nvidia-cusparselt-cu12==0.7.1 in /usr/local/lib/python3.12/dist-packages (from torch>=1.8.0->ultralytics) (0.7.1)\n",
            "Requirement already satisfied: nvidia-nccl-cu12==2.27.3 in /usr/local/lib/python3.12/dist-packages (from torch>=1.8.0->ultralytics) (2.27.3)\n",
            "Requirement already satisfied: nvidia-nvtx-cu12==12.6.77 in /usr/local/lib/python3.12/dist-packages (from torch>=1.8.0->ultralytics) (12.6.77)\n",
            "Requirement already satisfied: nvidia-nvjitlink-cu12==12.6.85 in /usr/local/lib/python3.12/dist-packages (from torch>=1.8.0->ultralytics) (12.6.85)\n",
            "Requirement already satisfied: nvidia-cufile-cu12==1.11.1.6 in /usr/local/lib/python3.12/dist-packages (from torch>=1.8.0->ultralytics) (1.11.1.6)\n",
            "Requirement already satisfied: triton==3.4.0 in /usr/local/lib/python3.12/dist-packages (from torch>=1.8.0->ultralytics) (3.4.0)\n",
            "Requirement already satisfied: six>=1.5 in /usr/local/lib/python3.12/dist-packages (from python-dateutil>=2.7->matplotlib>=3.3.0->ultralytics) (1.17.0)\n",
            "Requirement already satisfied: mpmath<1.4,>=1.1.0 in /usr/local/lib/python3.12/dist-packages (from sympy>=1.13.3->torch>=1.8.0->ultralytics) (1.3.0)\n",
            "Requirement already satisfied: MarkupSafe>=2.0 in /usr/local/lib/python3.12/dist-packages (from jinja2->torch>=1.8.0->ultralytics) (3.0.3)\n"
          ]
        }
      ]
    },
    {
      "cell_type": "code",
      "source": [
        "import os, cv2, yaml, random, numpy as np\n",
        "from PIL import Image\n",
        "from glob import glob\n",
        "from matplotlib import pyplot as plt\n",
        "from torchvision import transforms as T\n",
        "\n",
        "class Visualization:\n",
        "\n",
        "    def __init__(self, root, data_types, n_ims, rows, cmap=None):\n",
        "        self.root = root   # ✅ FIX: Save root\n",
        "        self.n_ims, self.rows = n_ims, rows\n",
        "        self.cmap, self.data_types = cmap, data_types\n",
        "        self.colors = [\"firebrick\", \"darkorange\", \"blueviolet\"]\n",
        "\n",
        "        self.get_cls_names()\n",
        "        self.get_bboxes()\n",
        "\n",
        "    def get_cls_names(self):\n",
        "        with open(f\"{self.root}/KIIT-MiTA.yml\", 'r') as file:   # ✅ FIX: use self.root\n",
        "            data = yaml.safe_load(file)\n",
        "        # Extract class names\n",
        "        class_names = data['names']\n",
        "\n",
        "        # Create a dictionary with index as key and class name as value\n",
        "        self.class_dict = {index: name for index, name in enumerate(class_names)}\n",
        "\n",
        "    def get_bboxes(self):\n",
        "        self.vis_datas, self.analysis_datas, self.im_paths = {}, {}, {}\n",
        "        for data_type in self.data_types:\n",
        "            all_bboxes, all_analysis_datas = [], {}\n",
        "            im_paths = glob(f\"{self.root}/{data_type}/images/*\")   # ✅ FIX: use self.root\n",
        "\n",
        "            for idx, im_path in enumerate(im_paths):\n",
        "                bboxes = []\n",
        "                im_ext = os.path.splitext(im_path)[-1]\n",
        "                lbl_path = im_path.replace(im_ext, \".txt\")\n",
        "                lbl_path  = lbl_path.replace(f\"{data_type}/images/\", f\"{data_type}/labels/\")\n",
        "                if not os.path.isfile(lbl_path): continue\n",
        "                meta_data = open(lbl_path).readlines()\n",
        "                for data in meta_data:\n",
        "                    parts = data.strip().split()[:5]\n",
        "                    cls_name = self.class_dict[int(parts[0])]\n",
        "                    bboxes.append([cls_name] + [float(x) for x in parts[1:]])\n",
        "                    if cls_name not in all_analysis_datas:\n",
        "                        all_analysis_datas[cls_name] = 1\n",
        "                    else:\n",
        "                        all_analysis_datas[cls_name] += 1\n",
        "                all_bboxes.append(bboxes)\n",
        "\n",
        "            self.vis_datas[data_type] = all_bboxes\n",
        "            self.analysis_datas[data_type] = all_analysis_datas\n",
        "            self.im_paths[data_type] = im_paths\n",
        "\n",
        "    def plot(self, rows, cols, count, im_path, bboxes):\n",
        "        plt.subplot(rows, cols, count)\n",
        "        or_im = np.array(Image.open(im_path).convert(\"RGB\"))\n",
        "        height, width, _ = or_im.shape\n",
        "\n",
        "        for bbox in bboxes:\n",
        "            class_id, x_center, y_center, w, h = bbox\n",
        "            # Convert YOLO format to pixel values\n",
        "            x_min = int((x_center - w / 2) * width)\n",
        "            y_min = int((y_center - h / 2) * height)\n",
        "            x_max = int((x_center + w / 2) * width)\n",
        "            y_max = int((y_center + h / 2) * height)\n",
        "\n",
        "            color = (random.randint(0, 255), random.randint(0, 255), random.randint(0, 255))\n",
        "            cv2.rectangle(img=or_im, pt1=(x_min, y_min), pt2=(x_max, y_max), color=color, thickness=3)\n",
        "        plt.imshow(or_im)\n",
        "        plt.axis(\"off\")\n",
        "        plt.title(f\"There is (are) {len(bboxes)} object(s) in the image.\")\n",
        "\n",
        "        return count + 1\n",
        "\n",
        "    def vis(self, save_name):\n",
        "        print(f\"{save_name.upper()} Data Visualization is in process...\\n\")\n",
        "        assert self.cmap in [\"rgb\", \"gray\"], \"Please choose rgb or gray cmap\"\n",
        "        if self.cmap == \"rgb\": cmap = \"viridis\"\n",
        "        cols = self.n_ims // self.rows\n",
        "        count = 1\n",
        "\n",
        "        plt.figure(figsize=(25, 20))\n",
        "\n",
        "        indices = [random.randint(a=0, b=len(self.vis_datas[save_name]) - 1) for _ in range(self.n_ims)]\n",
        "\n",
        "        for idx, index in enumerate(indices):\n",
        "            if count == self.n_ims + 1: break\n",
        "            im_path, bboxes = self.im_paths[save_name][index], self.vis_datas[save_name][index]\n",
        "            count = self.plot(self.rows, cols, count, im_path=im_path, bboxes=bboxes)\n",
        "\n",
        "        plt.show()\n",
        "\n",
        "    def data_analysis(self, save_name, color):\n",
        "        print(\"Data analysis is in process...\\n\")\n",
        "\n",
        "        width, text_width, text_height = 0.7, 0.05, 2\n",
        "        cls_names = list(self.analysis_datas[save_name].keys())\n",
        "        counts = list(self.analysis_datas[save_name].values())\n",
        "\n",
        "        _, ax = plt.subplots(figsize=(30, 10))\n",
        "        indices = np.arange(len(counts))\n",
        "\n",
        "        ax.bar(indices, counts, width, color=color)\n",
        "        ax.set_xlabel(\"Class Names\", color=\"black\")\n",
        "        ax.set(xticks=indices, xticklabels=cls_names)   # ✅ FIX for warning\n",
        "        ax.set_ylabel(\"Data Counts\", color=\"black\")\n",
        "        ax.set_title(f\"{save_name.upper()} Dataset Class Imbalance Analysis\")\n",
        "\n",
        "        for i, v in enumerate(counts):\n",
        "            ax.text(i - text_width, v + text_height, str(v), color=\"royalblue\")\n",
        "\n",
        "    def visualization(self):\n",
        "        [self.vis(save_name) for save_name in self.data_types]\n",
        "\n",
        "    def analysis(self):\n",
        "        [self.data_analysis(save_name, color) for (save_name, color) in zip(self.data_types, self.colors)]\n",
        "\n",
        "\n",
        "# ✅ Example usage\n",
        "root = \"/content/KIIT-MiTA\"\n",
        "\n",
        "vis = Visualization(root=root, data_types=[\"train\", \"valid\", \"test\"], n_ims=20, rows=5, cmap=\"rgb\")\n",
        "vis.analysis()\n",
        "vis.visualization()\n"
      ],
      "metadata": {
        "colab": {
          "base_uri": "https://localhost:8080/",
          "height": 373
        },
        "id": "vDZYv3TH4lvB",
        "outputId": "cd58e2af-900f-48db-a770-2022cfb3c4fa"
      },
      "execution_count": null,
      "outputs": [
        {
          "output_type": "error",
          "ename": "FileNotFoundError",
          "evalue": "[Errno 2] No such file or directory: '/content/KIIT-MiTA/KIIT-MiTA.yml'",
          "traceback": [
            "\u001b[0;31m---------------------------------------------------------------------------\u001b[0m",
            "\u001b[0;31mFileNotFoundError\u001b[0m                         Traceback (most recent call last)",
            "\u001b[0;32m/tmp/ipython-input-599756668.py\u001b[0m in \u001b[0;36m<cell line: 0>\u001b[0;34m()\u001b[0m\n\u001b[1;32m    120\u001b[0m \u001b[0mroot\u001b[0m \u001b[0;34m=\u001b[0m \u001b[0;34m\"/content/KIIT-MiTA\"\u001b[0m\u001b[0;34m\u001b[0m\u001b[0;34m\u001b[0m\u001b[0m\n\u001b[1;32m    121\u001b[0m \u001b[0;34m\u001b[0m\u001b[0m\n\u001b[0;32m--> 122\u001b[0;31m \u001b[0mvis\u001b[0m \u001b[0;34m=\u001b[0m \u001b[0mVisualization\u001b[0m\u001b[0;34m(\u001b[0m\u001b[0mroot\u001b[0m\u001b[0;34m=\u001b[0m\u001b[0mroot\u001b[0m\u001b[0;34m,\u001b[0m \u001b[0mdata_types\u001b[0m\u001b[0;34m=\u001b[0m\u001b[0;34m[\u001b[0m\u001b[0;34m\"train\"\u001b[0m\u001b[0;34m,\u001b[0m \u001b[0;34m\"valid\"\u001b[0m\u001b[0;34m,\u001b[0m \u001b[0;34m\"test\"\u001b[0m\u001b[0;34m]\u001b[0m\u001b[0;34m,\u001b[0m \u001b[0mn_ims\u001b[0m\u001b[0;34m=\u001b[0m\u001b[0;36m20\u001b[0m\u001b[0;34m,\u001b[0m \u001b[0mrows\u001b[0m\u001b[0;34m=\u001b[0m\u001b[0;36m5\u001b[0m\u001b[0;34m,\u001b[0m \u001b[0mcmap\u001b[0m\u001b[0;34m=\u001b[0m\u001b[0;34m\"rgb\"\u001b[0m\u001b[0;34m)\u001b[0m\u001b[0;34m\u001b[0m\u001b[0;34m\u001b[0m\u001b[0m\n\u001b[0m\u001b[1;32m    123\u001b[0m \u001b[0mvis\u001b[0m\u001b[0;34m.\u001b[0m\u001b[0manalysis\u001b[0m\u001b[0;34m(\u001b[0m\u001b[0;34m)\u001b[0m\u001b[0;34m\u001b[0m\u001b[0;34m\u001b[0m\u001b[0m\n\u001b[1;32m    124\u001b[0m \u001b[0mvis\u001b[0m\u001b[0;34m.\u001b[0m\u001b[0mvisualization\u001b[0m\u001b[0;34m(\u001b[0m\u001b[0;34m)\u001b[0m\u001b[0;34m\u001b[0m\u001b[0;34m\u001b[0m\u001b[0m\n",
            "\u001b[0;32m/tmp/ipython-input-599756668.py\u001b[0m in \u001b[0;36m__init__\u001b[0;34m(self, root, data_types, n_ims, rows, cmap)\u001b[0m\n\u001b[1;32m     13\u001b[0m         \u001b[0mself\u001b[0m\u001b[0;34m.\u001b[0m\u001b[0mcolors\u001b[0m \u001b[0;34m=\u001b[0m \u001b[0;34m[\u001b[0m\u001b[0;34m\"firebrick\"\u001b[0m\u001b[0;34m,\u001b[0m \u001b[0;34m\"darkorange\"\u001b[0m\u001b[0;34m,\u001b[0m \u001b[0;34m\"blueviolet\"\u001b[0m\u001b[0;34m]\u001b[0m\u001b[0;34m\u001b[0m\u001b[0;34m\u001b[0m\u001b[0m\n\u001b[1;32m     14\u001b[0m \u001b[0;34m\u001b[0m\u001b[0m\n\u001b[0;32m---> 15\u001b[0;31m         \u001b[0mself\u001b[0m\u001b[0;34m.\u001b[0m\u001b[0mget_cls_names\u001b[0m\u001b[0;34m(\u001b[0m\u001b[0;34m)\u001b[0m\u001b[0;34m\u001b[0m\u001b[0;34m\u001b[0m\u001b[0m\n\u001b[0m\u001b[1;32m     16\u001b[0m         \u001b[0mself\u001b[0m\u001b[0;34m.\u001b[0m\u001b[0mget_bboxes\u001b[0m\u001b[0;34m(\u001b[0m\u001b[0;34m)\u001b[0m\u001b[0;34m\u001b[0m\u001b[0;34m\u001b[0m\u001b[0m\n\u001b[1;32m     17\u001b[0m \u001b[0;34m\u001b[0m\u001b[0m\n",
            "\u001b[0;32m/tmp/ipython-input-599756668.py\u001b[0m in \u001b[0;36mget_cls_names\u001b[0;34m(self)\u001b[0m\n\u001b[1;32m     17\u001b[0m \u001b[0;34m\u001b[0m\u001b[0m\n\u001b[1;32m     18\u001b[0m     \u001b[0;32mdef\u001b[0m \u001b[0mget_cls_names\u001b[0m\u001b[0;34m(\u001b[0m\u001b[0mself\u001b[0m\u001b[0;34m)\u001b[0m\u001b[0;34m:\u001b[0m\u001b[0;34m\u001b[0m\u001b[0;34m\u001b[0m\u001b[0m\n\u001b[0;32m---> 19\u001b[0;31m         \u001b[0;32mwith\u001b[0m \u001b[0mopen\u001b[0m\u001b[0;34m(\u001b[0m\u001b[0;34mf\"{self.root}/KIIT-MiTA.yml\"\u001b[0m\u001b[0;34m,\u001b[0m \u001b[0;34m'r'\u001b[0m\u001b[0;34m)\u001b[0m \u001b[0;32mas\u001b[0m \u001b[0mfile\u001b[0m\u001b[0;34m:\u001b[0m   \u001b[0;31m# ✅ FIX: use self.root\u001b[0m\u001b[0;34m\u001b[0m\u001b[0;34m\u001b[0m\u001b[0m\n\u001b[0m\u001b[1;32m     20\u001b[0m             \u001b[0mdata\u001b[0m \u001b[0;34m=\u001b[0m \u001b[0myaml\u001b[0m\u001b[0;34m.\u001b[0m\u001b[0msafe_load\u001b[0m\u001b[0;34m(\u001b[0m\u001b[0mfile\u001b[0m\u001b[0;34m)\u001b[0m\u001b[0;34m\u001b[0m\u001b[0;34m\u001b[0m\u001b[0m\n\u001b[1;32m     21\u001b[0m         \u001b[0;31m# Extract class names\u001b[0m\u001b[0;34m\u001b[0m\u001b[0;34m\u001b[0m\u001b[0m\n",
            "\u001b[0;31mFileNotFoundError\u001b[0m: [Errno 2] No such file or directory: '/content/KIIT-MiTA/KIIT-MiTA.yml'"
          ]
        }
      ]
    },
    {
      "cell_type": "code",
      "source": [
        "import os, yaml\n",
        "\n",
        "# ✅ Add this line to define the 'root' variable\n",
        "root = \"/content/KIIT-MiTA\"\n",
        "\n",
        "yml_file_path = f\"{root}/KIIT-MiTA.yml\"\n",
        "\n",
        "# Load original dataset YAML\n",
        "with open(yml_file_path, 'r') as file:\n",
        "    data = yaml.safe_load(file)\n",
        "\n",
        "# Update paths for Kaggle\n",
        "# Correct paths (absolute)\n",
        "data['train'] = '/content/KIIT-MiTA/train/images'\n",
        "data['val']   = '/content/KIIT-MiTA/valid/images'\n",
        "data['test']  = '/content/KIIT-MiTA/test/images'\n",
        "\n",
        "print(\"Updated YAML Config:\\n\", data)\n",
        "\n",
        "# ✅ Ensure /kaggle/working exists before saving\n",
        "os.makedirs(\"/kaggle/working\", exist_ok=True)\n",
        "\n",
        "# Save updated YAML\n",
        "output_path = '/kaggle/working/updated_config.yml'\n",
        "with open(output_path, 'w') as file:\n",
        "    yaml.dump(data, file, default_flow_style=False)\n",
        "\n",
        "print(f\"✅ YAML config saved at: {output_path}\")\n",
        "\n",
        "# 🔥 Train YOLO model\n",
        "train_results = model.train(\n",
        "    data=output_path,    # updated YAML\n",
        "    epochs=10,           # training epochs\n",
        "    imgsz=480,           # image size\n",
        "    device=0             # use single GPU\n",
        ")"
      ],
      "metadata": {
        "colab": {
          "base_uri": "https://localhost:8080/",
          "height": 211
        },
        "id": "F1CaC2-O4vQ7",
        "outputId": "9cbd7d5c-e27b-4b4f-e577-0957068cd1e8"
      },
      "execution_count": null,
      "outputs": [
        {
          "output_type": "error",
          "ename": "FileNotFoundError",
          "evalue": "[Errno 2] No such file or directory: '/content/KIIT-MiTA/KIIT-MiTA.yml'",
          "traceback": [
            "\u001b[0;31m---------------------------------------------------------------------------\u001b[0m",
            "\u001b[0;31mFileNotFoundError\u001b[0m                         Traceback (most recent call last)",
            "\u001b[0;32m/tmp/ipython-input-2515547380.py\u001b[0m in \u001b[0;36m<cell line: 0>\u001b[0;34m()\u001b[0m\n\u001b[1;32m      7\u001b[0m \u001b[0;34m\u001b[0m\u001b[0m\n\u001b[1;32m      8\u001b[0m \u001b[0;31m# Load original dataset YAML\u001b[0m\u001b[0;34m\u001b[0m\u001b[0;34m\u001b[0m\u001b[0m\n\u001b[0;32m----> 9\u001b[0;31m \u001b[0;32mwith\u001b[0m \u001b[0mopen\u001b[0m\u001b[0;34m(\u001b[0m\u001b[0myml_file_path\u001b[0m\u001b[0;34m,\u001b[0m \u001b[0;34m'r'\u001b[0m\u001b[0;34m)\u001b[0m \u001b[0;32mas\u001b[0m \u001b[0mfile\u001b[0m\u001b[0;34m:\u001b[0m\u001b[0;34m\u001b[0m\u001b[0;34m\u001b[0m\u001b[0m\n\u001b[0m\u001b[1;32m     10\u001b[0m     \u001b[0mdata\u001b[0m \u001b[0;34m=\u001b[0m \u001b[0myaml\u001b[0m\u001b[0;34m.\u001b[0m\u001b[0msafe_load\u001b[0m\u001b[0;34m(\u001b[0m\u001b[0mfile\u001b[0m\u001b[0;34m)\u001b[0m\u001b[0;34m\u001b[0m\u001b[0;34m\u001b[0m\u001b[0m\n\u001b[1;32m     11\u001b[0m \u001b[0;34m\u001b[0m\u001b[0m\n",
            "\u001b[0;31mFileNotFoundError\u001b[0m: [Errno 2] No such file or directory: '/content/KIIT-MiTA/KIIT-MiTA.yml'"
          ]
        }
      ]
    },
    {
      "cell_type": "code",
      "source": [
        "from PIL import Image\n",
        "from IPython.display import display\n",
        "\n",
        "# Open the image file\n",
        "image = Image.open(\"/content/runs/detect/train8/confusion_matrix.png\")\n",
        "\n",
        "# Display the image in the notebook\n",
        "display(image)"
      ],
      "metadata": {
        "colab": {
          "base_uri": "https://localhost:8080/",
          "height": 349
        },
        "id": "JCCi0A5J_EAX",
        "outputId": "cb14e4c3-1af4-4051-8d5e-0bf4f92a1956"
      },
      "execution_count": null,
      "outputs": [
        {
          "output_type": "error",
          "ename": "FileNotFoundError",
          "evalue": "[Errno 2] No such file or directory: '/content/runs/detect/train8/confusion_matrix.png'",
          "traceback": [
            "\u001b[0;31m---------------------------------------------------------------------------\u001b[0m",
            "\u001b[0;31mFileNotFoundError\u001b[0m                         Traceback (most recent call last)",
            "\u001b[0;32m/tmp/ipython-input-3086817054.py\u001b[0m in \u001b[0;36m<cell line: 0>\u001b[0;34m()\u001b[0m\n\u001b[1;32m      3\u001b[0m \u001b[0;34m\u001b[0m\u001b[0m\n\u001b[1;32m      4\u001b[0m \u001b[0;31m# Open the image file\u001b[0m\u001b[0;34m\u001b[0m\u001b[0;34m\u001b[0m\u001b[0m\n\u001b[0;32m----> 5\u001b[0;31m \u001b[0mimage\u001b[0m \u001b[0;34m=\u001b[0m \u001b[0mImage\u001b[0m\u001b[0;34m.\u001b[0m\u001b[0mopen\u001b[0m\u001b[0;34m(\u001b[0m\u001b[0;34m\"/content/runs/detect/train8/confusion_matrix.png\"\u001b[0m\u001b[0;34m)\u001b[0m\u001b[0;34m\u001b[0m\u001b[0;34m\u001b[0m\u001b[0m\n\u001b[0m\u001b[1;32m      6\u001b[0m \u001b[0;34m\u001b[0m\u001b[0m\n\u001b[1;32m      7\u001b[0m \u001b[0;31m# Display the image in the notebook\u001b[0m\u001b[0;34m\u001b[0m\u001b[0;34m\u001b[0m\u001b[0m\n",
            "\u001b[0;32m/usr/local/lib/python3.12/dist-packages/PIL/Image.py\u001b[0m in \u001b[0;36mopen\u001b[0;34m(fp, mode, formats)\u001b[0m\n\u001b[1;32m   3511\u001b[0m     \u001b[0;32mif\u001b[0m \u001b[0mis_path\u001b[0m\u001b[0;34m(\u001b[0m\u001b[0mfp\u001b[0m\u001b[0;34m)\u001b[0m\u001b[0;34m:\u001b[0m\u001b[0;34m\u001b[0m\u001b[0;34m\u001b[0m\u001b[0m\n\u001b[1;32m   3512\u001b[0m         \u001b[0mfilename\u001b[0m \u001b[0;34m=\u001b[0m \u001b[0mos\u001b[0m\u001b[0;34m.\u001b[0m\u001b[0mfspath\u001b[0m\u001b[0;34m(\u001b[0m\u001b[0mfp\u001b[0m\u001b[0;34m)\u001b[0m\u001b[0;34m\u001b[0m\u001b[0;34m\u001b[0m\u001b[0m\n\u001b[0;32m-> 3513\u001b[0;31m         \u001b[0mfp\u001b[0m \u001b[0;34m=\u001b[0m \u001b[0mbuiltins\u001b[0m\u001b[0;34m.\u001b[0m\u001b[0mopen\u001b[0m\u001b[0;34m(\u001b[0m\u001b[0mfilename\u001b[0m\u001b[0;34m,\u001b[0m \u001b[0;34m\"rb\"\u001b[0m\u001b[0;34m)\u001b[0m\u001b[0;34m\u001b[0m\u001b[0;34m\u001b[0m\u001b[0m\n\u001b[0m\u001b[1;32m   3514\u001b[0m         \u001b[0mexclusive_fp\u001b[0m \u001b[0;34m=\u001b[0m \u001b[0;32mTrue\u001b[0m\u001b[0;34m\u001b[0m\u001b[0;34m\u001b[0m\u001b[0m\n\u001b[1;32m   3515\u001b[0m     \u001b[0;32melse\u001b[0m\u001b[0;34m:\u001b[0m\u001b[0;34m\u001b[0m\u001b[0;34m\u001b[0m\u001b[0m\n",
            "\u001b[0;31mFileNotFoundError\u001b[0m: [Errno 2] No such file or directory: '/content/runs/detect/train8/confusion_matrix.png'"
          ]
        }
      ]
    },
    {
      "cell_type": "code",
      "source": [
        "Image.open(f\"/content/runs/detect/train8/results.png\")"
      ],
      "metadata": {
        "colab": {
          "base_uri": "https://localhost:8080/",
          "height": 263
        },
        "id": "jdGOau6w_XDR",
        "outputId": "05d395bf-6921-4140-c16a-29d92a690400"
      },
      "execution_count": null,
      "outputs": [
        {
          "output_type": "error",
          "ename": "FileNotFoundError",
          "evalue": "[Errno 2] No such file or directory: '/content/runs/detect/train8/results.png'",
          "traceback": [
            "\u001b[0;31m---------------------------------------------------------------------------\u001b[0m",
            "\u001b[0;31mFileNotFoundError\u001b[0m                         Traceback (most recent call last)",
            "\u001b[0;32m/tmp/ipython-input-2908361777.py\u001b[0m in \u001b[0;36m<cell line: 0>\u001b[0;34m()\u001b[0m\n\u001b[0;32m----> 1\u001b[0;31m \u001b[0mImage\u001b[0m\u001b[0;34m.\u001b[0m\u001b[0mopen\u001b[0m\u001b[0;34m(\u001b[0m\u001b[0;34mf\"/content/runs/detect/train8/results.png\"\u001b[0m\u001b[0;34m)\u001b[0m\u001b[0;34m\u001b[0m\u001b[0;34m\u001b[0m\u001b[0m\n\u001b[0m",
            "\u001b[0;32m/usr/local/lib/python3.12/dist-packages/PIL/Image.py\u001b[0m in \u001b[0;36mopen\u001b[0;34m(fp, mode, formats)\u001b[0m\n\u001b[1;32m   3511\u001b[0m     \u001b[0;32mif\u001b[0m \u001b[0mis_path\u001b[0m\u001b[0;34m(\u001b[0m\u001b[0mfp\u001b[0m\u001b[0;34m)\u001b[0m\u001b[0;34m:\u001b[0m\u001b[0;34m\u001b[0m\u001b[0;34m\u001b[0m\u001b[0m\n\u001b[1;32m   3512\u001b[0m         \u001b[0mfilename\u001b[0m \u001b[0;34m=\u001b[0m \u001b[0mos\u001b[0m\u001b[0;34m.\u001b[0m\u001b[0mfspath\u001b[0m\u001b[0;34m(\u001b[0m\u001b[0mfp\u001b[0m\u001b[0;34m)\u001b[0m\u001b[0;34m\u001b[0m\u001b[0;34m\u001b[0m\u001b[0m\n\u001b[0;32m-> 3513\u001b[0;31m         \u001b[0mfp\u001b[0m \u001b[0;34m=\u001b[0m \u001b[0mbuiltins\u001b[0m\u001b[0;34m.\u001b[0m\u001b[0mopen\u001b[0m\u001b[0;34m(\u001b[0m\u001b[0mfilename\u001b[0m\u001b[0;34m,\u001b[0m \u001b[0;34m\"rb\"\u001b[0m\u001b[0;34m)\u001b[0m\u001b[0;34m\u001b[0m\u001b[0;34m\u001b[0m\u001b[0m\n\u001b[0m\u001b[1;32m   3514\u001b[0m         \u001b[0mexclusive_fp\u001b[0m \u001b[0;34m=\u001b[0m \u001b[0;32mTrue\u001b[0m\u001b[0;34m\u001b[0m\u001b[0;34m\u001b[0m\u001b[0m\n\u001b[1;32m   3515\u001b[0m     \u001b[0;32melse\u001b[0m\u001b[0;34m:\u001b[0m\u001b[0;34m\u001b[0m\u001b[0;34m\u001b[0m\u001b[0m\n",
            "\u001b[0;31mFileNotFoundError\u001b[0m: [Errno 2] No such file or directory: '/content/runs/detect/train8/results.png'"
          ]
        }
      ]
    },
    {
      "cell_type": "code",
      "metadata": {
        "colab": {
          "base_uri": "https://localhost:8080/",
          "height": 280
        },
        "id": "c9f861ce",
        "outputId": "68cee556-c1ac-42d4-8817-509acd6342e2"
      },
      "source": [
        "Image.open(f\"/content/runs/detect/train8/BoxP_curve.png\")"
      ],
      "execution_count": null,
      "outputs": [
        {
          "output_type": "error",
          "ename": "FileNotFoundError",
          "evalue": "[Errno 2] No such file or directory: '/content/runs/detect/train8/BoxP_curve.png'",
          "traceback": [
            "\u001b[0;31m---------------------------------------------------------------------------\u001b[0m",
            "\u001b[0;31mFileNotFoundError\u001b[0m                         Traceback (most recent call last)",
            "\u001b[0;32m/tmp/ipython-input-1042855153.py\u001b[0m in \u001b[0;36m<cell line: 0>\u001b[0;34m()\u001b[0m\n\u001b[0;32m----> 1\u001b[0;31m \u001b[0mImage\u001b[0m\u001b[0;34m.\u001b[0m\u001b[0mopen\u001b[0m\u001b[0;34m(\u001b[0m\u001b[0;34mf\"/content/runs/detect/train8/BoxP_curve.png\"\u001b[0m\u001b[0;34m)\u001b[0m\u001b[0;34m\u001b[0m\u001b[0;34m\u001b[0m\u001b[0m\n\u001b[0m",
            "\u001b[0;32m/usr/local/lib/python3.12/dist-packages/PIL/Image.py\u001b[0m in \u001b[0;36mopen\u001b[0;34m(fp, mode, formats)\u001b[0m\n\u001b[1;32m   3511\u001b[0m     \u001b[0;32mif\u001b[0m \u001b[0mis_path\u001b[0m\u001b[0;34m(\u001b[0m\u001b[0mfp\u001b[0m\u001b[0;34m)\u001b[0m\u001b[0;34m:\u001b[0m\u001b[0;34m\u001b[0m\u001b[0;34m\u001b[0m\u001b[0m\n\u001b[1;32m   3512\u001b[0m         \u001b[0mfilename\u001b[0m \u001b[0;34m=\u001b[0m \u001b[0mos\u001b[0m\u001b[0;34m.\u001b[0m\u001b[0mfspath\u001b[0m\u001b[0;34m(\u001b[0m\u001b[0mfp\u001b[0m\u001b[0;34m)\u001b[0m\u001b[0;34m\u001b[0m\u001b[0;34m\u001b[0m\u001b[0m\n\u001b[0;32m-> 3513\u001b[0;31m         \u001b[0mfp\u001b[0m \u001b[0;34m=\u001b[0m \u001b[0mbuiltins\u001b[0m\u001b[0;34m.\u001b[0m\u001b[0mopen\u001b[0m\u001b[0;34m(\u001b[0m\u001b[0mfilename\u001b[0m\u001b[0;34m,\u001b[0m \u001b[0;34m\"rb\"\u001b[0m\u001b[0;34m)\u001b[0m\u001b[0;34m\u001b[0m\u001b[0;34m\u001b[0m\u001b[0m\n\u001b[0m\u001b[1;32m   3514\u001b[0m         \u001b[0mexclusive_fp\u001b[0m \u001b[0;34m=\u001b[0m \u001b[0;32mTrue\u001b[0m\u001b[0;34m\u001b[0m\u001b[0;34m\u001b[0m\u001b[0m\n\u001b[1;32m   3515\u001b[0m     \u001b[0;32melse\u001b[0m\u001b[0;34m:\u001b[0m\u001b[0;34m\u001b[0m\u001b[0;34m\u001b[0m\u001b[0m\n",
            "\u001b[0;31mFileNotFoundError\u001b[0m: [Errno 2] No such file or directory: '/content/runs/detect/train8/BoxP_curve.png'"
          ]
        }
      ]
    },
    {
      "cell_type": "code",
      "source": [
        "Image.open(f\"/content/runs/detect/train8/BoxR_curve.png\")"
      ],
      "metadata": {
        "colab": {
          "base_uri": "https://localhost:8080/",
          "height": 280
        },
        "id": "uIlmdkw9AfNY",
        "outputId": "b7fa18f0-0af0-4b29-f252-4b2ff6cbf833"
      },
      "execution_count": null,
      "outputs": [
        {
          "output_type": "error",
          "ename": "FileNotFoundError",
          "evalue": "[Errno 2] No such file or directory: '/content/runs/detect/train8/BoxR_curve.png'",
          "traceback": [
            "\u001b[0;31m---------------------------------------------------------------------------\u001b[0m",
            "\u001b[0;31mFileNotFoundError\u001b[0m                         Traceback (most recent call last)",
            "\u001b[0;32m/tmp/ipython-input-1831811521.py\u001b[0m in \u001b[0;36m<cell line: 0>\u001b[0;34m()\u001b[0m\n\u001b[0;32m----> 1\u001b[0;31m \u001b[0mImage\u001b[0m\u001b[0;34m.\u001b[0m\u001b[0mopen\u001b[0m\u001b[0;34m(\u001b[0m\u001b[0;34mf\"/content/runs/detect/train8/BoxR_curve.png\"\u001b[0m\u001b[0;34m)\u001b[0m\u001b[0;34m\u001b[0m\u001b[0;34m\u001b[0m\u001b[0m\n\u001b[0m",
            "\u001b[0;32m/usr/local/lib/python3.12/dist-packages/PIL/Image.py\u001b[0m in \u001b[0;36mopen\u001b[0;34m(fp, mode, formats)\u001b[0m\n\u001b[1;32m   3511\u001b[0m     \u001b[0;32mif\u001b[0m \u001b[0mis_path\u001b[0m\u001b[0;34m(\u001b[0m\u001b[0mfp\u001b[0m\u001b[0;34m)\u001b[0m\u001b[0;34m:\u001b[0m\u001b[0;34m\u001b[0m\u001b[0;34m\u001b[0m\u001b[0m\n\u001b[1;32m   3512\u001b[0m         \u001b[0mfilename\u001b[0m \u001b[0;34m=\u001b[0m \u001b[0mos\u001b[0m\u001b[0;34m.\u001b[0m\u001b[0mfspath\u001b[0m\u001b[0;34m(\u001b[0m\u001b[0mfp\u001b[0m\u001b[0;34m)\u001b[0m\u001b[0;34m\u001b[0m\u001b[0;34m\u001b[0m\u001b[0m\n\u001b[0;32m-> 3513\u001b[0;31m         \u001b[0mfp\u001b[0m \u001b[0;34m=\u001b[0m \u001b[0mbuiltins\u001b[0m\u001b[0;34m.\u001b[0m\u001b[0mopen\u001b[0m\u001b[0;34m(\u001b[0m\u001b[0mfilename\u001b[0m\u001b[0;34m,\u001b[0m \u001b[0;34m\"rb\"\u001b[0m\u001b[0;34m)\u001b[0m\u001b[0;34m\u001b[0m\u001b[0;34m\u001b[0m\u001b[0m\n\u001b[0m\u001b[1;32m   3514\u001b[0m         \u001b[0mexclusive_fp\u001b[0m \u001b[0;34m=\u001b[0m \u001b[0;32mTrue\u001b[0m\u001b[0;34m\u001b[0m\u001b[0;34m\u001b[0m\u001b[0m\n\u001b[1;32m   3515\u001b[0m     \u001b[0;32melse\u001b[0m\u001b[0;34m:\u001b[0m\u001b[0;34m\u001b[0m\u001b[0;34m\u001b[0m\u001b[0m\n",
            "\u001b[0;31mFileNotFoundError\u001b[0m: [Errno 2] No such file or directory: '/content/runs/detect/train8/BoxR_curve.png'"
          ]
        }
      ]
    },
    {
      "cell_type": "code",
      "metadata": {
        "colab": {
          "base_uri": "https://localhost:8080/",
          "height": 280
        },
        "id": "82f26914",
        "outputId": "215be213-13c4-4250-a634-5f6949ac8158"
      },
      "source": [
        "Image.open(f\"/content/runs/detect/train8/BoxPR_curve.png\")"
      ],
      "execution_count": null,
      "outputs": [
        {
          "output_type": "error",
          "ename": "FileNotFoundError",
          "evalue": "[Errno 2] No such file or directory: '/content/runs/detect/train8/BoxPR_curve.png'",
          "traceback": [
            "\u001b[0;31m---------------------------------------------------------------------------\u001b[0m",
            "\u001b[0;31mFileNotFoundError\u001b[0m                         Traceback (most recent call last)",
            "\u001b[0;32m/tmp/ipython-input-3100621872.py\u001b[0m in \u001b[0;36m<cell line: 0>\u001b[0;34m()\u001b[0m\n\u001b[0;32m----> 1\u001b[0;31m \u001b[0mImage\u001b[0m\u001b[0;34m.\u001b[0m\u001b[0mopen\u001b[0m\u001b[0;34m(\u001b[0m\u001b[0;34mf\"/content/runs/detect/train8/BoxPR_curve.png\"\u001b[0m\u001b[0;34m)\u001b[0m\u001b[0;34m\u001b[0m\u001b[0;34m\u001b[0m\u001b[0m\n\u001b[0m",
            "\u001b[0;32m/usr/local/lib/python3.12/dist-packages/PIL/Image.py\u001b[0m in \u001b[0;36mopen\u001b[0;34m(fp, mode, formats)\u001b[0m\n\u001b[1;32m   3511\u001b[0m     \u001b[0;32mif\u001b[0m \u001b[0mis_path\u001b[0m\u001b[0;34m(\u001b[0m\u001b[0mfp\u001b[0m\u001b[0;34m)\u001b[0m\u001b[0;34m:\u001b[0m\u001b[0;34m\u001b[0m\u001b[0;34m\u001b[0m\u001b[0m\n\u001b[1;32m   3512\u001b[0m         \u001b[0mfilename\u001b[0m \u001b[0;34m=\u001b[0m \u001b[0mos\u001b[0m\u001b[0;34m.\u001b[0m\u001b[0mfspath\u001b[0m\u001b[0;34m(\u001b[0m\u001b[0mfp\u001b[0m\u001b[0;34m)\u001b[0m\u001b[0;34m\u001b[0m\u001b[0;34m\u001b[0m\u001b[0m\n\u001b[0;32m-> 3513\u001b[0;31m         \u001b[0mfp\u001b[0m \u001b[0;34m=\u001b[0m \u001b[0mbuiltins\u001b[0m\u001b[0;34m.\u001b[0m\u001b[0mopen\u001b[0m\u001b[0;34m(\u001b[0m\u001b[0mfilename\u001b[0m\u001b[0;34m,\u001b[0m \u001b[0;34m\"rb\"\u001b[0m\u001b[0;34m)\u001b[0m\u001b[0;34m\u001b[0m\u001b[0;34m\u001b[0m\u001b[0m\n\u001b[0m\u001b[1;32m   3514\u001b[0m         \u001b[0mexclusive_fp\u001b[0m \u001b[0;34m=\u001b[0m \u001b[0;32mTrue\u001b[0m\u001b[0;34m\u001b[0m\u001b[0;34m\u001b[0m\u001b[0m\n\u001b[1;32m   3515\u001b[0m     \u001b[0;32melse\u001b[0m\u001b[0;34m:\u001b[0m\u001b[0;34m\u001b[0m\u001b[0;34m\u001b[0m\u001b[0m\n",
            "\u001b[0;31mFileNotFoundError\u001b[0m: [Errno 2] No such file or directory: '/content/runs/detect/train8/BoxPR_curve.png'"
          ]
        }
      ]
    },
    {
      "cell_type": "code",
      "metadata": {
        "colab": {
          "base_uri": "https://localhost:8080/",
          "height": 280
        },
        "outputId": "aa39a9e0-482c-41fb-bde1-de1f6f189677",
        "id": "Mhg-zHlGARPs"
      },
      "source": [
        "Image.open(f\"/content/runs/detect/train8/BoxF1_curve.png\")"
      ],
      "execution_count": null,
      "outputs": [
        {
          "output_type": "error",
          "ename": "FileNotFoundError",
          "evalue": "[Errno 2] No such file or directory: '/content/runs/detect/train8/BoxF1_curve.png'",
          "traceback": [
            "\u001b[0;31m---------------------------------------------------------------------------\u001b[0m",
            "\u001b[0;31mFileNotFoundError\u001b[0m                         Traceback (most recent call last)",
            "\u001b[0;32m/tmp/ipython-input-2001878359.py\u001b[0m in \u001b[0;36m<cell line: 0>\u001b[0;34m()\u001b[0m\n\u001b[0;32m----> 1\u001b[0;31m \u001b[0mImage\u001b[0m\u001b[0;34m.\u001b[0m\u001b[0mopen\u001b[0m\u001b[0;34m(\u001b[0m\u001b[0;34mf\"/content/runs/detect/train8/BoxF1_curve.png\"\u001b[0m\u001b[0;34m)\u001b[0m\u001b[0;34m\u001b[0m\u001b[0;34m\u001b[0m\u001b[0m\n\u001b[0m",
            "\u001b[0;32m/usr/local/lib/python3.12/dist-packages/PIL/Image.py\u001b[0m in \u001b[0;36mopen\u001b[0;34m(fp, mode, formats)\u001b[0m\n\u001b[1;32m   3511\u001b[0m     \u001b[0;32mif\u001b[0m \u001b[0mis_path\u001b[0m\u001b[0;34m(\u001b[0m\u001b[0mfp\u001b[0m\u001b[0;34m)\u001b[0m\u001b[0;34m:\u001b[0m\u001b[0;34m\u001b[0m\u001b[0;34m\u001b[0m\u001b[0m\n\u001b[1;32m   3512\u001b[0m         \u001b[0mfilename\u001b[0m \u001b[0;34m=\u001b[0m \u001b[0mos\u001b[0m\u001b[0;34m.\u001b[0m\u001b[0mfspath\u001b[0m\u001b[0;34m(\u001b[0m\u001b[0mfp\u001b[0m\u001b[0;34m)\u001b[0m\u001b[0;34m\u001b[0m\u001b[0;34m\u001b[0m\u001b[0m\n\u001b[0;32m-> 3513\u001b[0;31m         \u001b[0mfp\u001b[0m \u001b[0;34m=\u001b[0m \u001b[0mbuiltins\u001b[0m\u001b[0;34m.\u001b[0m\u001b[0mopen\u001b[0m\u001b[0;34m(\u001b[0m\u001b[0mfilename\u001b[0m\u001b[0;34m,\u001b[0m \u001b[0;34m\"rb\"\u001b[0m\u001b[0;34m)\u001b[0m\u001b[0;34m\u001b[0m\u001b[0;34m\u001b[0m\u001b[0m\n\u001b[0m\u001b[1;32m   3514\u001b[0m         \u001b[0mexclusive_fp\u001b[0m \u001b[0;34m=\u001b[0m \u001b[0;32mTrue\u001b[0m\u001b[0;34m\u001b[0m\u001b[0;34m\u001b[0m\u001b[0m\n\u001b[1;32m   3515\u001b[0m     \u001b[0;32melse\u001b[0m\u001b[0;34m:\u001b[0m\u001b[0;34m\u001b[0m\u001b[0;34m\u001b[0m\u001b[0m\n",
            "\u001b[0;31mFileNotFoundError\u001b[0m: [Errno 2] No such file or directory: '/content/runs/detect/train8/BoxF1_curve.png'"
          ]
        }
      ]
    },
    {
      "cell_type": "code",
      "source": [
        "Image.open(f\"/content/runs/detect/train8/val_batch0_pred.jpg\")"
      ],
      "metadata": {
        "colab": {
          "base_uri": "https://localhost:8080/",
          "height": 280
        },
        "id": "FhcsWzKGAqVy",
        "outputId": "d8acd1aa-c88d-4838-b986-dbce0f5c04f0"
      },
      "execution_count": null,
      "outputs": [
        {
          "output_type": "error",
          "ename": "FileNotFoundError",
          "evalue": "[Errno 2] No such file or directory: '/content/runs/detect/train8/val_batch0_pred.jpg'",
          "traceback": [
            "\u001b[0;31m---------------------------------------------------------------------------\u001b[0m",
            "\u001b[0;31mFileNotFoundError\u001b[0m                         Traceback (most recent call last)",
            "\u001b[0;32m/tmp/ipython-input-600691476.py\u001b[0m in \u001b[0;36m<cell line: 0>\u001b[0;34m()\u001b[0m\n\u001b[0;32m----> 1\u001b[0;31m \u001b[0mImage\u001b[0m\u001b[0;34m.\u001b[0m\u001b[0mopen\u001b[0m\u001b[0;34m(\u001b[0m\u001b[0;34mf\"/content/runs/detect/train8/val_batch0_pred.jpg\"\u001b[0m\u001b[0;34m)\u001b[0m\u001b[0;34m\u001b[0m\u001b[0;34m\u001b[0m\u001b[0m\n\u001b[0m",
            "\u001b[0;32m/usr/local/lib/python3.12/dist-packages/PIL/Image.py\u001b[0m in \u001b[0;36mopen\u001b[0;34m(fp, mode, formats)\u001b[0m\n\u001b[1;32m   3511\u001b[0m     \u001b[0;32mif\u001b[0m \u001b[0mis_path\u001b[0m\u001b[0;34m(\u001b[0m\u001b[0mfp\u001b[0m\u001b[0;34m)\u001b[0m\u001b[0;34m:\u001b[0m\u001b[0;34m\u001b[0m\u001b[0;34m\u001b[0m\u001b[0m\n\u001b[1;32m   3512\u001b[0m         \u001b[0mfilename\u001b[0m \u001b[0;34m=\u001b[0m \u001b[0mos\u001b[0m\u001b[0;34m.\u001b[0m\u001b[0mfspath\u001b[0m\u001b[0;34m(\u001b[0m\u001b[0mfp\u001b[0m\u001b[0;34m)\u001b[0m\u001b[0;34m\u001b[0m\u001b[0;34m\u001b[0m\u001b[0m\n\u001b[0;32m-> 3513\u001b[0;31m         \u001b[0mfp\u001b[0m \u001b[0;34m=\u001b[0m \u001b[0mbuiltins\u001b[0m\u001b[0;34m.\u001b[0m\u001b[0mopen\u001b[0m\u001b[0;34m(\u001b[0m\u001b[0mfilename\u001b[0m\u001b[0;34m,\u001b[0m \u001b[0;34m\"rb\"\u001b[0m\u001b[0;34m)\u001b[0m\u001b[0;34m\u001b[0m\u001b[0;34m\u001b[0m\u001b[0m\n\u001b[0m\u001b[1;32m   3514\u001b[0m         \u001b[0mexclusive_fp\u001b[0m \u001b[0;34m=\u001b[0m \u001b[0;32mTrue\u001b[0m\u001b[0;34m\u001b[0m\u001b[0;34m\u001b[0m\u001b[0m\n\u001b[1;32m   3515\u001b[0m     \u001b[0;32melse\u001b[0m\u001b[0;34m:\u001b[0m\u001b[0;34m\u001b[0m\u001b[0;34m\u001b[0m\u001b[0m\n",
            "\u001b[0;31mFileNotFoundError\u001b[0m: [Errno 2] No such file or directory: '/content/runs/detect/train8/val_batch0_pred.jpg'"
          ]
        }
      ]
    },
    {
      "cell_type": "code",
      "source": [
        "from ultralytics import YOLO\n",
        "import os\n",
        "\n",
        "# Load your best trained model weights from the correct directory.\n",
        "# You may need to update 'train' to 'train2', 'train3', etc.\n",
        "model = YOLO(\"/content/runs/detect/train8/weights/best.pt\")\n",
        "\n",
        "# Define the path to the test images folder\n",
        "test_images_path = \"/content/KIIT-MiTA/test/images\"\n",
        "\n",
        "# Run inference on all images in the folder.\n",
        "# 'device=0' uses the first GPU. 'verbose=False' hides the per-image output.\n",
        "inference_results = model(test_images_path, device=0, verbose=False)\n",
        "\n",
        "# Loop through the results to access each image's predictions and save them.\n",
        "# The results are saved to 'runs/detect/predict' by default.\n",
        "for r in inference_results:\n",
        "    # r.save() will save the predicted image with bounding boxes.\n",
        "    # The default location is a new directory under runs/detect/\n",
        "    r.save()\n",
        "\n",
        "print(\"Inference complete. Predicted images are saved in a new runs/detect/predict directory.\")"
      ],
      "metadata": {
        "colab": {
          "base_uri": "https://localhost:8080/"
        },
        "id": "cJ4ESUc0BJ9j",
        "outputId": "d6efe325-57ed-4128-ee75-70f2d7f014ef"
      },
      "execution_count": null,
      "outputs": [
        {
          "output_type": "stream",
          "name": "stdout",
          "text": [
            "Inference complete. Predicted images are saved in a new runs/detect/predict directory.\n"
          ]
        }
      ]
    },
    {
      "cell_type": "code",
      "source": [
        "import numpy as np\n",
        "import cv2\n",
        "from PIL import Image\n",
        "from matplotlib import pyplot as plt\n",
        "\n",
        "def inference_vis(res, n_ims, rows, class_names):\n",
        "    \"\"\"\n",
        "    Visualizes inference results by displaying images with bounding boxes,\n",
        "    class labels, and confidence scores.\n",
        "\n",
        "    Args:\n",
        "        res (list): List of Ultralytics Results objects.\n",
        "        n_ims (int): The total number of images to display.\n",
        "        rows (int): The number of rows in the plot grid.\n",
        "        class_names (list): A list of class names from the dataset YAML.\n",
        "    \"\"\"\n",
        "    cols = n_ims // rows\n",
        "    plt.figure(figsize=(20, 10))\n",
        "    for idx, r in enumerate(res):\n",
        "        if idx >= n_ims:\n",
        "            break\n",
        "\n",
        "        plt.subplot(rows, cols, idx + 1)\n",
        "        or_im_rgb = np.array(Image.open(r.path).convert(\"RGB\"))\n",
        "\n",
        "        # Iterate through each bounding box\n",
        "        for bbox in r.boxes:\n",
        "            box = bbox.xyxy[0]\n",
        "            x1, y1, x2, y2 = box.cpu().numpy().astype(int)\n",
        "\n",
        "            # Get class ID and confidence score\n",
        "            class_id = int(bbox.cls)\n",
        "            conf_score = float(bbox.conf)\n",
        "            class_name = class_names[class_id]\n",
        "\n",
        "            # Format the label string\n",
        "            label = f\"{class_name}: {conf_score:.2f}\"\n",
        "\n",
        "            # Draw the bounding box\n",
        "            cv2.rectangle(or_im_rgb, (x1, y1), (x2, y2), color=(255, 0, 0), thickness=2)\n",
        "\n",
        "            # Draw the label text\n",
        "            cv2.putText(\n",
        "                or_im_rgb,\n",
        "                label,\n",
        "                (x1, y1 - 10),\n",
        "                cv2.FONT_HERSHEY_SIMPLEX,\n",
        "                1,\n",
        "                (255, 0, 0),\n",
        "                2,\n",
        "            )\n",
        "\n",
        "        plt.imshow(or_im_rgb)\n",
        "        plt.title(f\"Image #{idx + 1}\")\n",
        "        plt.axis(\"off\")\n",
        "\n",
        "    plt.tight_layout()\n",
        "    plt.show()\n",
        "\n",
        "# You must define your class names first, from your YAML file.\n",
        "class_names = ['Artillary', 'Missile', 'Radar', 'M. Rocket Launcher', 'Soldier', 'Tank', 'Vehicle']\n",
        "\n",
        "# Then call the function with the new class_names parameter\n",
        "inference_vis(res=inference_results, n_ims=15, rows=3, class_names=class_names)"
      ],
      "metadata": {
        "colab": {
          "base_uri": "https://localhost:8080/",
          "height": 176
        },
        "id": "BTbPiYSTBmIE",
        "outputId": "7c98efb2-25c2-4b98-b99c-c34dbb64bfd7"
      },
      "execution_count": null,
      "outputs": [
        {
          "output_type": "error",
          "ename": "NameError",
          "evalue": "name 'inference_results' is not defined",
          "traceback": [
            "\u001b[0;31m---------------------------------------------------------------------------\u001b[0m",
            "\u001b[0;31mNameError\u001b[0m                                 Traceback (most recent call last)",
            "\u001b[0;32m/tmp/ipython-input-4158372021.py\u001b[0m in \u001b[0;36m<cell line: 0>\u001b[0;34m()\u001b[0m\n\u001b[1;32m     62\u001b[0m \u001b[0;34m\u001b[0m\u001b[0m\n\u001b[1;32m     63\u001b[0m \u001b[0;31m# Then call the function with the new class_names parameter\u001b[0m\u001b[0;34m\u001b[0m\u001b[0;34m\u001b[0m\u001b[0m\n\u001b[0;32m---> 64\u001b[0;31m \u001b[0minference_vis\u001b[0m\u001b[0;34m(\u001b[0m\u001b[0mres\u001b[0m\u001b[0;34m=\u001b[0m\u001b[0minference_results\u001b[0m\u001b[0;34m,\u001b[0m \u001b[0mn_ims\u001b[0m\u001b[0;34m=\u001b[0m\u001b[0;36m15\u001b[0m\u001b[0;34m,\u001b[0m \u001b[0mrows\u001b[0m\u001b[0;34m=\u001b[0m\u001b[0;36m3\u001b[0m\u001b[0;34m,\u001b[0m \u001b[0mclass_names\u001b[0m\u001b[0;34m=\u001b[0m\u001b[0mclass_names\u001b[0m\u001b[0;34m)\u001b[0m\u001b[0;34m\u001b[0m\u001b[0;34m\u001b[0m\u001b[0m\n\u001b[0m",
            "\u001b[0;31mNameError\u001b[0m: name 'inference_results' is not defined"
          ]
        }
      ]
    },
    {
      "cell_type": "code",
      "execution_count": null,
      "metadata": {
        "colab": {
          "base_uri": "https://localhost:8080/",
          "height": 1000
        },
        "id": "KPm2TxMO3oBd",
        "outputId": "6f2a3f4b-6d29-476d-ce14-f70f39dc3f24"
      },
      "outputs": [
        {
          "output_type": "display_data",
          "data": {
            "text/plain": [
              "<IPython.core.display.HTML object>"
            ],
            "text/html": [
              "\n",
              "     <input type=\"file\" id=\"files-32d014c1-b9d8-43ce-ad67-2606074e3104\" name=\"files[]\" multiple disabled\n",
              "        style=\"border:none\" />\n",
              "     <output id=\"result-32d014c1-b9d8-43ce-ad67-2606074e3104\">\n",
              "      Upload widget is only available when the cell has been executed in the\n",
              "      current browser session. Please rerun this cell to enable.\n",
              "      </output>\n",
              "      <script>// Copyright 2017 Google LLC\n",
              "//\n",
              "// Licensed under the Apache License, Version 2.0 (the \"License\");\n",
              "// you may not use this file except in compliance with the License.\n",
              "// You may obtain a copy of the License at\n",
              "//\n",
              "//      http://www.apache.org/licenses/LICENSE-2.0\n",
              "//\n",
              "// Unless required by applicable law or agreed to in writing, software\n",
              "// distributed under the License is distributed on an \"AS IS\" BASIS,\n",
              "// WITHOUT WARRANTIES OR CONDITIONS OF ANY KIND, either express or implied.\n",
              "// See the License for the specific language governing permissions and\n",
              "// limitations under the License.\n",
              "\n",
              "/**\n",
              " * @fileoverview Helpers for google.colab Python module.\n",
              " */\n",
              "(function(scope) {\n",
              "function span(text, styleAttributes = {}) {\n",
              "  const element = document.createElement('span');\n",
              "  element.textContent = text;\n",
              "  for (const key of Object.keys(styleAttributes)) {\n",
              "    element.style[key] = styleAttributes[key];\n",
              "  }\n",
              "  return element;\n",
              "}\n",
              "\n",
              "// Max number of bytes which will be uploaded at a time.\n",
              "const MAX_PAYLOAD_SIZE = 100 * 1024;\n",
              "\n",
              "function _uploadFiles(inputId, outputId) {\n",
              "  const steps = uploadFilesStep(inputId, outputId);\n",
              "  const outputElement = document.getElementById(outputId);\n",
              "  // Cache steps on the outputElement to make it available for the next call\n",
              "  // to uploadFilesContinue from Python.\n",
              "  outputElement.steps = steps;\n",
              "\n",
              "  return _uploadFilesContinue(outputId);\n",
              "}\n",
              "\n",
              "// This is roughly an async generator (not supported in the browser yet),\n",
              "// where there are multiple asynchronous steps and the Python side is going\n",
              "// to poll for completion of each step.\n",
              "// This uses a Promise to block the python side on completion of each step,\n",
              "// then passes the result of the previous step as the input to the next step.\n",
              "function _uploadFilesContinue(outputId) {\n",
              "  const outputElement = document.getElementById(outputId);\n",
              "  const steps = outputElement.steps;\n",
              "\n",
              "  const next = steps.next(outputElement.lastPromiseValue);\n",
              "  return Promise.resolve(next.value.promise).then((value) => {\n",
              "    // Cache the last promise value to make it available to the next\n",
              "    // step of the generator.\n",
              "    outputElement.lastPromiseValue = value;\n",
              "    return next.value.response;\n",
              "  });\n",
              "}\n",
              "\n",
              "/**\n",
              " * Generator function which is called between each async step of the upload\n",
              " * process.\n",
              " * @param {string} inputId Element ID of the input file picker element.\n",
              " * @param {string} outputId Element ID of the output display.\n",
              " * @return {!Iterable<!Object>} Iterable of next steps.\n",
              " */\n",
              "function* uploadFilesStep(inputId, outputId) {\n",
              "  const inputElement = document.getElementById(inputId);\n",
              "  inputElement.disabled = false;\n",
              "\n",
              "  const outputElement = document.getElementById(outputId);\n",
              "  outputElement.innerHTML = '';\n",
              "\n",
              "  const pickedPromise = new Promise((resolve) => {\n",
              "    inputElement.addEventListener('change', (e) => {\n",
              "      resolve(e.target.files);\n",
              "    });\n",
              "  });\n",
              "\n",
              "  const cancel = document.createElement('button');\n",
              "  inputElement.parentElement.appendChild(cancel);\n",
              "  cancel.textContent = 'Cancel upload';\n",
              "  const cancelPromise = new Promise((resolve) => {\n",
              "    cancel.onclick = () => {\n",
              "      resolve(null);\n",
              "    };\n",
              "  });\n",
              "\n",
              "  // Wait for the user to pick the files.\n",
              "  const files = yield {\n",
              "    promise: Promise.race([pickedPromise, cancelPromise]),\n",
              "    response: {\n",
              "      action: 'starting',\n",
              "    }\n",
              "  };\n",
              "\n",
              "  cancel.remove();\n",
              "\n",
              "  // Disable the input element since further picks are not allowed.\n",
              "  inputElement.disabled = true;\n",
              "\n",
              "  if (!files) {\n",
              "    return {\n",
              "      response: {\n",
              "        action: 'complete',\n",
              "      }\n",
              "    };\n",
              "  }\n",
              "\n",
              "  for (const file of files) {\n",
              "    const li = document.createElement('li');\n",
              "    li.append(span(file.name, {fontWeight: 'bold'}));\n",
              "    li.append(span(\n",
              "        `(${file.type || 'n/a'}) - ${file.size} bytes, ` +\n",
              "        `last modified: ${\n",
              "            file.lastModifiedDate ? file.lastModifiedDate.toLocaleDateString() :\n",
              "                                    'n/a'} - `));\n",
              "    const percent = span('0% done');\n",
              "    li.appendChild(percent);\n",
              "\n",
              "    outputElement.appendChild(li);\n",
              "\n",
              "    const fileDataPromise = new Promise((resolve) => {\n",
              "      const reader = new FileReader();\n",
              "      reader.onload = (e) => {\n",
              "        resolve(e.target.result);\n",
              "      };\n",
              "      reader.readAsArrayBuffer(file);\n",
              "    });\n",
              "    // Wait for the data to be ready.\n",
              "    let fileData = yield {\n",
              "      promise: fileDataPromise,\n",
              "      response: {\n",
              "        action: 'continue',\n",
              "      }\n",
              "    };\n",
              "\n",
              "    // Use a chunked sending to avoid message size limits. See b/62115660.\n",
              "    let position = 0;\n",
              "    do {\n",
              "      const length = Math.min(fileData.byteLength - position, MAX_PAYLOAD_SIZE);\n",
              "      const chunk = new Uint8Array(fileData, position, length);\n",
              "      position += length;\n",
              "\n",
              "      const base64 = btoa(String.fromCharCode.apply(null, chunk));\n",
              "      yield {\n",
              "        response: {\n",
              "          action: 'append',\n",
              "          file: file.name,\n",
              "          data: base64,\n",
              "        },\n",
              "      };\n",
              "\n",
              "      let percentDone = fileData.byteLength === 0 ?\n",
              "          100 :\n",
              "          Math.round((position / fileData.byteLength) * 100);\n",
              "      percent.textContent = `${percentDone}% done`;\n",
              "\n",
              "    } while (position < fileData.byteLength);\n",
              "  }\n",
              "\n",
              "  // All done.\n",
              "  yield {\n",
              "    response: {\n",
              "      action: 'complete',\n",
              "    }\n",
              "  };\n",
              "}\n",
              "\n",
              "scope.google = scope.google || {};\n",
              "scope.google.colab = scope.google.colab || {};\n",
              "scope.google.colab._files = {\n",
              "  _uploadFiles,\n",
              "  _uploadFilesContinue,\n",
              "};\n",
              "})(self);\n",
              "</script> "
            ]
          },
          "metadata": {}
        },
        {
          "output_type": "stream",
          "name": "stdout",
          "text": [
            "Saving images.jpg to images.jpg\n"
          ]
        },
        {
          "output_type": "execute_result",
          "data": {
            "text/plain": [
              "{'images.jpg': b'\\xff\\xd8\\xff\\xe0\\x00\\x10JFIF\\x00\\x01\\x01\\x00\\x00\\x01\\x00\\x01\\x00\\x00\\xff\\xdb\\x00\\x84\\x00\\t\\x06\\x07\\x12\\x13\\x12\\x15\\x12\\x12\\x13\\x15\\x15\\x15\\x16\\x17\\x15\\x18\\x15\\x17\\x18\\x17\\x18\\x15\\x1a\\x18\\x17\\x16\\x17\\x18\\x16\\x17\\x17\\x17\\x18\\x18\\x1d( \\x18\\x1a%\\x1f\\x15\\x16!1!%)-...\\x18\\x1f383-7(-.+\\x01\\n\\n\\n\\x0e\\r\\x0e\\x1b\\x10\\x10\\x1a-\\x1d %-----/----------+---------------+----------+----77\\xff\\xc0\\x00\\x11\\x08\\x00\\xb1\\x01\\x1d\\x03\\x01\"\\x00\\x02\\x11\\x01\\x03\\x11\\x01\\xff\\xc4\\x00\\x1c\\x00\\x00\\x00\\x07\\x01\\x01\\x00\\x00\\x00\\x00\\x00\\x00\\x00\\x00\\x00\\x00\\x00\\x01\\x02\\x03\\x04\\x05\\x06\\x07\\x00\\x08\\xff\\xc4\\x00@\\x10\\x00\\x02\\x01\\x02\\x04\\x03\\x06\\x04\\x04\\x04\\x05\\x04\\x01\\x05\\x00\\x00\\x01\\x02\\x11\\x00\\x03\\x04\\x12!1\\x05AQ\\x06\\x13\"aq\\x81\\x072\\x91\\xb1B\\xa1\\xc1\\xf0\\x14#R\\xd13br\\x82\\xe1\\x15\\x92\\xa2\\xf1C$4S\\xb2\\xc2\\xff\\xc4\\x00\\x19\\x01\\x01\\x01\\x01\\x01\\x01\\x01\\x00\\x00\\x00\\x00\\x00\\x00\\x00\\x00\\x00\\x00\\x01\\x00\\x02\\x03\\x04\\x05\\xff\\xc4\\x00#\\x11\\x01\\x01\\x00\\x02\\x02\\x02\\x03\\x00\\x02\\x03\\x00\\x00\\x00\\x00\\x00\\x00\\x00\\x01\\x02\\x11!1\\x12A\\x03\\x13Q\\x142\\x04\"a\\xff\\xda\\x00\\x0c\\x03\\x01\\x00\\x02\\x11\\x03\\x11\\x00?\\x00\\xb6\\xa5,\\x8d\\\\\\x02\\xd0Wx\\xe2X5\\x1b\\xbd\\xa6\\xc6h\\x86\\xe4Q\\xa4r\\xd7(\\r\\xcaj\\xd7t\\xa2\\xab\\x89\\x9eT\\x83\\xa3sZ3=2\\x17iEy\\xa8\\x8e\\xc4\\x9d)Pb\\x9b\\xe6<\\xa8\\xea\\xd5!\\xae\\xebIM(5\\xa2F\\xb5\"l\\xf4\\xe3\\x0bw\\x95wv\\x08\\xa2\\xe1\\xedkJH[\\x11\\xb5.M6\\xb4\\xd4\\xe2\\xd8\\xd6\\xb3\\tKKN\\x15h\\xd6\\xd6iqcJ+R\\x10\\x9a>m)Qb\\x88\\xf6\\xe8: Z\\x84.\\xb4&\\xddpX\\xa4\\x17\\xb7N\\x12\\r#miTZ\\xc9\\x83\\xd2\\x0e)\\xd2\\x8a)\\x8a6\\x8d\\xd5\\x0c\\xd2\\xeb@h)C\\xcd\\x084\\x95\\x08j\\x11V\\xa1\\x14\\x96zPQ\\xa2\\xe64\\x97yF\\xbai\\xb9\\x9a`.\\xb7\\x05\\x16\\xe5$\\xb4`\\x86\\xad%P\\n\\x02\\xb4\\xdc\\xbd\\x1c\\\\\\xae\\x9d9\\x8e\\xc2\\x99\\xdf\\x99\\xa73\"\\x93\\xcdLDT\\xc8\\xd6\\xbb-(\\xf4\\x9dh\\x0b\\x14$\\x1a\\x18\\xa1-R\\xd1D\\xa5&\\x9b\\x9b\\x94^\\xf7Z\\xb4\\x8f\\x02\\xd0\\xc8\\x14\\x82\\xde\\xa2\\xbd\\xd1F\\x91\\xd3]\\x9f\\xa5\\x12\\xc9,\\xc3\\xedM\\xad\\xe2\"\\xa50\\x01w\\xe7E\\'vm\\xf9S\\xd4\\xb7DR)\\xc2\\xb5a\\xb9\\nZJ^\\x92V\\xa5P\\xd0F\\x8a\\x0c\\xb44\\x05\\xe8Do\\nn\\r8zH\\xad(ujsh\\xd2\\n4\\xa5m\\xadH\\xb8\\xa0e\\xa1Z\\x1a\\xce\\xc9<\\xb4\\x04E)EaN\\xc0\\x91D&\\x8c\\xd4R\\x95 \\x03F\\x17h\\nE\\x12\\xda\\xebR-v\"\\x85m\\xc8\\xa1\\x0bFSQ\\x10\\xda\\x14\\x0e\\xb4\\xbd\\x06Z\\xb6\\xb4\\xcfKP\\x16\\xae\\xba\\x94\\x91z\\xea\\xe4X4\\t\\xa2\\x97\\xa2f\\x9a\\x15ZE\\xa3\\x13E\\xa3\\xa2P\\xb2\\xd2\\x04\\xae]\\xb5\\xa1\\nI\\xd2\\x80\\xdb \\xd0\\x85\\xb8\\x9d(\\x85if\\xb6zQH\\xf2\\xa7j\\x88\\x8b\\xedE\\xbb\\xe13JN\\xba\\xd2w\\x04\\xd4\\x84\\xcd4\\xef\\x0b\\x8b2\\x04R\\x16cjui\\x00\\xde\\x8aSv/\\xe8:\\xd3\\xcbw&\\xa1m\\\\4\\xf1/Eb\\xc6\\xa5J[\\x14\\xbc\\xd3<=\\xe3K\\xe6\\xac\\xe9\\xb2\\xb9\\xe8\\x0bR`\\xd1\\xa0\\xd4\\x844`\\xb4l\\xb3K-\\xaa\\x90\\x96\\x85:\\x02\\x93[qJ\\xd6m.\\xae\\xae\\xae\\xa0\\x81\\xa8\\x05\\x1a(*\\x04\\xd9h\\xc1k\\x98\\xd1\\x96\\xa4\\x1c\\xb4+j\\x8dlR\\x82\\x9d\\x92L\\xb4@)\\xc1\\xa0\"\\xad\\xa2h(\\xf9k\\x96\\x86hL\\xe6\\xe1\\xa6\\xcc\\x94\\xb1&i5\\xd4\\xd7\\xa28\\x884\\xa5A\\xa4\\xee,\\x1a:\\x1aAT4cI!\\xa3\\xe6\\xa9\\x14V\\xae\\xcdI[2b\\x95\\xb8\\xbet\\x12w\\xaeQ3P\\xb5\\xbdw\\xa1+\\xacT\\r\\xee\\x9dt\\xa2e4\\xed\\xf0\\xd3\\xb5\\x10\\xdb#M\\xea\\x95i\\xd6\\xedN\\xb4%\\xfc\\xe9)+\\xa1\\xd2\\x80\\xc5H\\xe0]4\\xb2\\xe2)\\x88\\xd6\\x8d`\\x12u\\xf7\\'J\\xa9NX\\xc4\\xd4\\x8d\\xbb\\x9aT\\x1e\\x1a\\xe0\\xe4A#qR\\xf6.*\\x82\\xceB\\xaa\\x82X\\x92\\x00\\x00nI;\\n\\xe7\\xb9Z\\x92\\xce\\xd2Vu\\x8aUV\\x92\\xc38eV]C\\x00A\\xd4hD\\x8d\\xea\\x0f\\xb7}\\xaa\\xff\\x00\\xa7\\xd8[\\xa2\\xdfxKD\\x12@\\x00@$\\xc7\\xa8\\x1e\\xf44\\xb3*\\xd2\\x95]\\xecOi\\x86>\\xc7|\\xb6\\x9a\\xdc\\x12\\x0c\\x99\\x13\\xfe^\\xa2\\xac3Y05\\xd4P\\xd5\\xcf\\xb6\\xf1\\xe7\\xd2\\x82\\x8b\\xe2\\xfd\\xa0\\xb1\\x87\\x073I\\x00\\x12\\x17]\\t\\x89\\x9d\\xbc\\xe3})\\xde\\x07\\x88[\\xbc\\xb9\\xad\\x99\\xfaO\\x91\\xd0\\xeck\\n\\xc5\\xf1\\xb5K\\xafl\\xe8C6b\\xea\\xd6\\xc832V7:{T\\x97\\x08\\xe3\\xd7Z\\xed\\xa4\\xb2m\\xbb\\x97U\\x19L\\xeetb\\x0f\\xb5cwm\\xf8\\xcd6\\xea\\n*\\x93F5\\xb6\\x01\\x96\\x8c(\"\\x8c*A\\rJ\\x03I\\x9a05!\\xa6\\x80\\x9a+Q*C\\xcdt\\xd1(f\\xa4\\xcfXR)\\xa1\\xa5\\xcf:*%z\\x1c\\t\\xe5\\'\\x94\\xfbW\\x03Hq^ \\xd6-\\xf7\\x88\\x15\\x98\\x1f\\x95\\x98\\xa6\\x9c\\xc8#Y\\x15\\r\\xc4;Yo2\\xe4\\xfcL\\x03\\xce\\xa3q\\'i\\xe7\\xbc\\xf2\\xda\\xb3s\\xd3S\\x1d\\x9e\\xf6\\x99\\xae\\xae\\x16\\xebY0\\xea\\xb9\\x81\\xf2R\\x0bDs\\xca\\x1a\\xa2>\\x1d\\xf1{\\xd8\\x81w\\xbe\\xb9\\x9f&L\\xb3\\x94\\x1dfO\\x85F\\x9as&\\xac\\xd6n\\xad\\xc5\\x91\\xaa\\x99\\x1a\\xf3\\x13\\x1e\\xe0\\xfd\\xab;\\xec\\x95\\xc3\\x83\\xe2m\\x87?+3[\\xd7\\xa1\\xf1Z>\\xbf/\\xfd\\xd5y{\\rZ\\xd5\\xa15\\x9e\\xf6\\xc3\\xb4\\xea\\xb8\\x87\\xb5\\x9e\\xe4\"\\x85\\n\\xbe\\x12\\x1c\\xeaX\\x82$\\x88\\x88?J\\xb5\\xdc\\xed-\\xa4\\xbel\\x90t\\x02X\\x11\\x19\\x8e\\xb9u\\xf6\\xac\\xf7\\xb5|z\\xed\\xf7\\x02\\xea[\\xfeYx\\xca\\xa4\\x13>\\x1dK\\x13\\xac\\x7f\\xea\\xb3\\x95\\x9d:a\\x8d\\xed-\\xd9\\x0e\\xd2\\x97\\xb8\\x96?\\x9a\\xe1\\x8c\\tVh\\x1a\\xf8\\x89 \\xc0\\x07\\xa9\\xebW\\xe5C5W\\xf8\\\\\\xd6\\xc5\\xab\\x92\\xdf\\xccg\\x0b\\x95\\xb4\\x80\\x170\\x0b\\xd7\\xe6\\xd8U\\xdd\\xed\\x8a\\xb1g>\\xc9.\\xd1Q\\x9c{\\x18,Zg\\x1f4\\x10\\x9aL\\xb9\\x1ah7\\xdbj\\x9a\\xb5g\\xa6\\xb3\\xb51\\xed7\\n[\\x98{\\xa8\\xc8\\x1c\\xe4b\\xba\\x0f\\x98)\\xcaW0\\xd1\\xa7cZ\\x13\\xbeT\\xbcG\\x1f\\xba\\xbd\\xd8,\\x8e\\x08\\xd6aX\\xb6\\xe4\\x10\\x07\\x87M\\xb9U\\xb3\\x08\\x8a\\xc8\\xaf\\x02\\x19A\\xfa\\x89\\xac{\\x07\\x86Gu\\x19\\xd9\\x04\\x8c\\xcd\\xbePH\\x96\\x81;\\t\\xad\\x8b\\x85a\\x16\\xd5\\xa4\\xb4\\xacY@\\xd1\\x89\\x04\\x90u\\x99\\x1c\\xb5\\xaca[\\xf9&\\x82\\xb6G-\\xaa\\xb5\\xdb.7\\xfc\"\\xa6\\xd0\\xf9\\xbdNX\\xd0\\x01\\xfe\\xa93\\xa6\\xd5mxMX\\x809\\x93\\xa0\\x1e\\xb3T\\x8e\\xddq\\xcb\\x0ff\\xe5\\xa5\\x02\\xe3\\xf8J0\\x86\\x00\\xc8,\\xcay\\x11\\xf9\\xcdk=Y\\xaa\\xce\\x1b\\xde\\xe2\\xb6;^\\x14\\x99[\\x86ti\\xd26:Cm\\x02\\xb4\\x8e\\x01<H+\\xb9\\xff\\x00\\xe9-\\x90\\nlq\\x17V\\t7\\x00\\xda\\xd2\\x9f\\xc1\\xcc\\xef\\xa0\\xd7%\\xe0\\xf7\\x12\\xed\\xd8\\xba\\xce\\xb6\\x80&\\xe6P\\x18\\x8bzN]gI\\xd3\\xa0\\xeb\\x10w\\x9e\\xcdc0l\\xbd\\xce\\x11\\x97-\\xb5S\\x95A\\x19CL\\x13#RH:\\xef35\\xcb\\x19#\\xaey[V\\x0bF\\xb1\\x0f\\x8c]\\xa1v\\xc7w(\\xc4-\\x85\\xca\\x00\\x8f\\x9d\\xc6g\\xf2;\\x81\\xaf\\xf4\\x9a\\xda\\xb1\\xb7\\x85\\xbb7\\x1c\\xb6P\\xa8\\xec[\\xfaaI\\x9fj\\xf36\\x03\\x866)\\x95U\\xd7=\\xc7\\x85.u-\\xb2\\xe6s\\xd4\\xf3\\xeak[\\x91\\x99-_\\xbb\\x17\\xda;\\x96\\xad\\x0bh\\xc4]\\x00\\x97V2_\\xfc\\xc9:F\\xdeB+]\\xe18\\xf1~\\xca\\\\\\x04\\x19U\\xcd\\x1a\\xc3e\\x04\\x89\\xf2\\x9a\\xf37g\\xad\\xb3\\xdd[Y\\xae\\x92NUUc\\x19\\xb3\\x00\\x04\\x83\\xf2\\x92L\\xc7Z\\xf5\\x06\\x0b\\x0c\\x96\\xd1m\\xa2\\x85U\\x00\\x006\\xackU\\xafC\\x01\\xadT\\xfbU\\xdb\\xfb\\x186ky\\x1e\\xeb\\xa4f\\x88UY\\x13\\x05\\x8f1\\xa6\\xc3\\x9dZ\\xb1\\xb8\\xa4\\xb3m\\xee\\xdc0\\x96\\xd5\\x99\\x8f@\\xa2My\\x8b\\x89qw\\xc6b.\\\\s\\x1d\\xed\\xc6x\\xfe\\x90N\\x8b\\xec>\\xd4\\xb2\\x96\\xedgi\\x17\\x19}\\xb1\\x01J\\xab\\xaa\\x85W\\xcaH\\x01B\\x90\\x0f1+=u\\xa9\\xbf\\x87\\xb8\\xbe\\x1dd\\xb6\\'\\x10?\\x9c\\xae\\xbd\\xc0\\xd7\\xc2\"Y\\x86\\xa0\\x18$\\xcc\\xf2\\x1c\\xe6\\xa8x\\xeb\\x0cH9\\xf3\\xf2\\x00\\x9d\\xa3\\xedI\\xdb\\xc4\\xb2\\xe5\\r\\x04\\x03\\xa0\\xe7\\xe6$r\\xab^\\xcd\\xcb\\xd5z\\xa7\\x03\\x8d\\xb7us\\xdauu\\xff\\x00)\\x9fc\\xd2\\x9d\\n\\xf3\\x9fe{Ws\\x0fw5\\xa6\\x82\\xc1A\\x0c|07\\x91\\xcf\\xcb\\xd2\\xb5\\xee\\xcc\\xf6\\xde\\xde!\\xd6\\xcb\\x8c\\xae\\xc0\\xe5a9\\\\\\x8d\\xe0\\x1dEIo\\xae\\xa2\\x86\\xa1\\x15#N#\\xc4\\xad\\xd9\\\\\\xd7\\x18\\x0e\\x83\\x99\\xf4\\x15]\\xb1\\xdb\\\\\\xd7Jw$\\xa9\\xcb\\x92\\x18f$\\xf2\\xf3\\xaa\\xef\\xc5\\xb1z\\xd5\\xcbW\\xed\\xd9\\x94#+\\xbec\\xf3\\xcc\\x85*\\x0e\\x9e\\x15\\xd0\\xd6t\\x9c^\\xeb\\\\\\xb6{\\x9f\\x10e\\xc9\\x95\\xe0\\xe6&\\x14\\t\\xd2f7\\xace\\xe5\\xe9\\xbcdi\\xbd\\xbf\\xed\\x96&\\xc5\\xfe\\xe2\\xd6kYD\\x9f\\x90\\xe7V\\xf9XhJ\\xec\\xdc\\xc7-*\\xb5\\xd9\\xfe\\xd9\\xbd\\xbb\\xfd\\xed\\xcb\\xb7\\n\\xb9\\xf1\\xa9`\\xc4\\xf4\\xf9\\x81\\x81\\xa0\\xdbX\\xda)\\xb7\\xc5\\xfe\\x1c\\xc3\\x13i\\xc5\\xe4\"\\xe5\\xa5\\\\\\x81\\xf3:\\xb5\\xa1\\xe2\\xcf\\xe4s.\\xb3\\xbc\\xd4Ga{*\\xb8\\xdcE\\xbbo\\x1d\\xd9\\x0c\\xd7\\n48\\t\\xb8\\x9eS\\xe1\\x1e\\xf5\\xad\\xc6u{\\x8fD\\xe1\\xee\\xe6Eh#0\\x06\\x08\\x82$L\\x11\\xca\\x8dB\\x88\\x00\\x00l\\x00\\x03\\xd0iCH\\xaa@[\\x91\\xcf\\xefJ:\\xb6\\x9a\\r\\xb5\\xf0\\x8d\\xe4\\xf9S\\xe5\\xe0\\xc64}\\xe0\\xed\\xff\\x004\\\\v\\x10ZCq\\xee*\\xaa.\\xa4\\xcf/*\\xeb\\xb7=+\\x1d\\xa9\\xe1m~\\xc3*\\xb7v\\xcb\\xe2\\x07\"\\xb0\\xf0\\xeb\\x10t\\xd7\\xadd71\\x17\\x9bCuX\\x1d\\xc7t\\x9a\\xf9|\\xbfj\\x9d\\xed\\x0fk\\xae_v\\x82m\\xaa\\x96T\\xca\\xce\\xa5\\xc1\\xd3\\xc7\\r\\x07H;i$y\\xd5Z\\xcd\\xdf\\xe6\\x02NYa\\x07`\\xba\\xfe\\\\\\xbd+\\x19r\\xeb\\x8f\\x13\\x96\\xc7\\xd9\\x1c\\x05\\xdb8u[\\xe43\\x119`\\x80\\x93\\xf8w\\xf4\\xaaW\\xc4\\xbbb\\xde*\\xd5\\xe4\\x80\\xc5Fa:\\x86C*z\\xea\\x0f\\xfe55\\xc0{It\\xf7\\x96\\xcd\\xc2\\xec\\t\\x8e\\xf1\\xc0\\x85\\x13\"\\x7f\\x17\\xae\\xf5\\x01\\xdbL\\xd7\\xa2\\xee\\\\\\xc4\\xae\\xac\\x08\\x81\\x90\\x93\\x0279}\\xea\\x97\\xd3\\x1e(,=\\xe77\\xc3\\x12`x\\x81<\\xd7q\\x07\\x9e\\x9a}j_\\x1bff\\xe8e\"d\\x80u\\xeaLu\\xe7P6\\xaf\\x06\\xb6\\xa0\\xee\\x0eY\\xd3A\\xab\\r\\xcf\\xad;\\xc2\\xb0\\x96\\xce\\xbbu\\x89\\x82&\\x0c\\x1d(\\xd7;1<\\xd8\\x95K\\x13m\\x8a\\xc1\\x0e\\x08\\xe6\\xc2W\\x98\\xe7\\xfd\\xa9^3\\xdb1s\\xf8_\\x1d\\xdbOiK1U\\x0c\\t>\\x1d\\xcbI\\xd1zs5\\x17\\xc2\\xf8K\\xe2E\\xcb6\\xd8\\x07\\xc8\\x1d\\x14\\xe8\\x19U\\xb5\\x12\\xc7\\x9c\\x88;i\\xe7\\xa3K\\xccm\\xd9\\xee\\xddT2\\xbb\\x03\\x99|Hd\\x86Y\\xf3\\x91\\xb4\\xfc\\xb4kP\\xff\\x00k\\xaa\\xb3\\xf0\\xde\\xdb\\xddB\\xce\\xac/\\r\\x00\\x02@\\x92\\x7f\\x10\\xd0\\xaf\\xaf\\x9d\\\\;C\\xdag\\xb6\\xb6\\xec\\xc8\\xb5u\\xd1\\x9d\\x87\\xccDh\\xa8\\xba\\xc0$\\xeez\\x03Y?f0\\xf6\\xaeb\\x91\\xae\\\\kH6*\\xb9\\xb3\\x10D\\xa1\\x1f\\xd2D\\x82j\\xd3\\xdb\\xbb\\xa8\\xf8\\xb2\\xf6\\xc9?\\xcbA Ls$)\\x13\\xb4yU\\x8a\\xcb\\xbf\\xd4F\\n\\xd6{\\xc4\\xdc9s\\x16/q\\xb5\\xccfLD\\t?\\xadZ\\xfb9\\xdaf7\\xd6\\xcb\\xebm\\x98*\\x88\\x03\\xbb\\x1b.\\xbc\\xc6\\xdf\\x9dQ\\x0e#\\x9c\\x12\\xa0\\xf4\\xfe\\xd5\\xdc>\\xf6P\\xd7r\\xb9d\\x960cc\\x03\\xf3\\x8au\\xecr\\xb4|D\\xed\\x1ek\\xb7\\xac\\x06F\\xb6\\xa0(Q$\\x97\\x1a\\xb3\\x18\\xd3C#~ZV~\\xd8\\xbc\\xc0\\x06\\x04\\x85\\x10\\x04\\xc0\\xe4i\\x0cv=\\xee\\x92\\xc4\\t04\\xd2\\x00\\x11\\x00Q0\\xc7\\x91:\\r\\xbdN\\xb3\\xf6\\xaa\\xed&\\xf0\\x96m\\x85\\x93\\xad\\xc1$\\r\\x8c(\\xd7c\\xa6\\xff\\x00z\\x95\\xec7jN\\x17\\x17l\\xea-\\xbc+\\xac\\xc0\\x83\\xcc\\xf4\\x83\\xa8\\xe9U\\x81e^\\ts\\x98\\xf9\\xcf/?\\xb5 \\x98bZ\\x07\\x88A\\x04\\rbw\\x88\\xd4/\\x9d\\x117\\xaf\\x8b\\x18\\xf2\\x96\\x1a\\xca\\xbd\\xc9\\xbc-\\xa1\\\\\\xb9m\\xa7\\x89\\x9b\\xbc\\xcf\\x93\\xc4HR\\ng\\xe4\\xba\\rg\\x19\\xc3bYn\\x84\\xb2\\xc5\\x0f\\x89\\x15\\x87\\x84\\x82ARg\\xceH\\x9f\\xf3T\\xdfm8\\xd6*\\xe5\\x9c\\x19\\xbe\\x7f\\xf8@Nz\\xdbf\\xb4\\xed\\xe6IE3\\xe6*\\x97\\x8c\\xc53\\xb7\\x88\\x92@\\xd4\\xf3\\xf2\\x1e\\xd5\\xa5\\xbdD\\xe7\\x0b\\xb4Q\\xfc \\xe7\\x10FV\\xf1\\x03 H\\x03Q\\x07\\xa4\\xd6\\xdb\\xf0\\xfb\\x8f\\xde\\xc4_d\\xbbp\\xb86K\\t\\x04C[\\xb9\\x91\\x8cl>n\\x80\\xfd+\\x12\\xe1\\x18\\xa2-\\xc2|\\xc3\\x9e\\xf1\\xcf@5\\xab\\xff\\x00\\xc2N V\\xfe%\\x9c\\xeb\\x91\\x82\\x8d%\\xcb\\x19P\\x14\\x1c\\xceey\\x03\\xedX\\xdf-zK|[\\xedpQ\\x7f\\x87\\x14t\\x0c\\x96[\\xbe\\x1a\\xc8\\xcc\\x1d\\x94)+\\xa7\\x84,\\xc9\\xfcZV=\\xdc\\x9bKn\\xe6\\xe2\\xeer\\xa3o\\x02\\x1c\\x92H\\xea\\xd9\\x87\\xfb~\\x96\\x1f\\x88|z\\xfe)\\xd3\\xf8\\xabf\\xd5\\xdb)\\xdd\\\\\\xd0\\x85k\\x8a\\xd9\\x9e\\x14\\x8d#\\xbcM\\'b\\x0f:\\xaa\\x1c^\\xc4\\xf8\\x82\\x00\\x82\\t\\x10\\xa2H\\xca\\x0f-[\\xeb[\\xf4\\xc9U\\xbeI\\x9d\\x8f\\xe5\\xedI\\xdd\\xbb#\\x7f\\xf8\\xa3\\xb1\\nuQ\\xa8\\x91\\xaf]\\xbd\\xea_\\xb3\\\\B\\xdd\\x9cU\\x9b\\xb7m\\xad\\xdbj\\xc0\\xb2B\\xb1`A\\x07\\xc2\\xdaf\\xd6D\\xf3\\x02\\xb2lZ\\xfe\\x0evj\\xde*\\xed\\xeb\\xb7\\xed\\x8b\\x96Q2\\x00uSq\\xce\\xb1\\xe6\\x02\\x9d\\xbf\\xaa\\x8f\\xdb\\x8e\\xcf\\x9e\\x17\\x8d\\xb7\\x7f\\x0eOus\\xc5dI&\\xdb\\xa0YB\\xccI#P\\xc2L\\xc1#\\x94\\xd6\\xdb\\x83d(\\x86\\xdcde\\x0c\\x90 e \\x11\\x03\\x96\\x91Q\\xbd\\xb0\\xe0#\\x19\\x84\\xb9c\\xf1|\\xd6\\xcfK\\x8b\\xaa\\xfb\\x1d\\x8f\\x914\\xed\\x93\\xfe\\x07\\xc4W\\x13\\x87\\xb5|\\x08\\xef\\x14\\x12:\\x1d\\x98{\\x10E8\\xc5\\xe2R\\xd25\\xc7`\\xaa\\xa2I?\\xbd\\xfc\\xaa\\x9b\\xf0\\x92\\xfb\\x9c#\\xdbq\\x1d\\xdb\\xf8A\\xdc\\x07\\x00\\x90G\\xfa\\xb3}MC|^\\xc632a\\xf2\\xb2\\xe5N\\xf4>f\\x839\\x94\\xa8I\\ncy2A\\xcb\\x11F\\xda\\xb3H\\xde\\xdc|G\\xef{\\xdc5\\x94V\\xb3q;\\xbc\\xcd \\x82u.\\x01\\x02\\x0f(>\\xb5B\\xc3qCeY\\x131f\\xcb\\xe3:(\\x00\\x08\\n\\xbdt:\\xc4\\xe9L8^ \\x07.\\xd0B#\\xb1\\x91\\xb9>\\x10>\\xad\\xf9S\\x0b\\xb8\\xc9b\\xc4\\x12\\t$\\xf9\\xb1\\xe7\\xf7\\xa0\\xc4\\xa7\\x13\\xe2\\x0ft bK\\x8dD\\x08\\x01LF\\xde\\x9f\\x95)\\xc3qWp\\xe7\\xbdS\\x04\\x11\\x0c\\x0c\\x15\\xe8G\\xd7jc\\x98\\x1e~,\\xbf\\xd5\\x1a(\\xf5\\xa9\\x0c\"\\x9b\\x88\\xd6\\x91\\t{\\x99\\x16\\xda\\x01\\xab6\\xbe\\x11>\\xd4mr\\xde\\xfe\\x1bq[\\x98\\x9c\\x10\\xbbu\\xf3\\xb1\\xb8\\xe3\\xfd!`e\\xd7^D\\xff\\x00\\xba\\xad9\\xab\\x03\\xec/k\\xae`.\\x0c-\\xd4+\\xfc\\xdc\\xb7\\xd5\\xa7\\xc26$\\r\\xf3\\xc9\\x9eb\\x079\\xad\\xdd\\\\\\x11#Pu\\x06\\xb4\\x08\\x81Y\\xcf\\xc4\\xee\"\\xcc\\xf6\\xec\\xdb\\x82-\\xcb8\\x04Nf\\x10\\x04N\\xb0\\xa6\\x7f\\xdcj\\xf7\\x8a\\xc5%\\xb4k\\x8eHU\\x04\\x9dN\\xc2\\xb1n \\x98{\\xf8\\x8e\\xfd\\xaeeL\\xf9\\xaf\\xb3\\xe8\\x0e\\xb3\\x94\\x03\\xab\\xb3\\x18\\x03.\\xb1=)\\xb4\\xc9\\xfa\\xaap{\\x81\\xf1\\r\\xb6PX\\xc4t\"#\\xef\\xff\\x00\\xbauem\\x969\\x90\\x13\\'I\\x1a\\xef\\x10O\\xefJa\\x7f\\x1e?\\x89\\xb9z\\xc6U\\xcc\\xccr\\x00\\xd1\\x95\\x8c\\x9c\\xb3\\xae\\xb04\\x81H%\\xdbd\\xc9r\\x87Q\\xb9\\x04t\\x81\\x1a\\xfaVoc\\x92\\xb7n(\\xbe\\xcb\\xa1S\\xac\\x18\\x807\\xe7\\xb6\\xa0\\xfd*\\xf2;Wd\\xe0\\x9e\\xc5\\xcc#[\\xcd,.\\x86E`\\xdc\\x98)\\xd4\\xe8c\\xcc\\x13Y\\xc0\\xbc;\\xec\\xda\\x91\\x11 \\x13;\\xf4\\xf5\\xa9\\xeb\\x96^\\xf3\\x01$\\xab[\\xce\\xaad@\\x04\\x01\\x98u 7\\xd2\\x9cb\\xda\\x1d\\xbb\\xb4\\x98b\\xc1\\x84\\xaa\\xe5\\xe7\\x01\\x84\\x89:CG\\xbd\\x0e\\x0f\\x16\\x0e\\xac\\x00\\x1a\\xe8\\xb9\\x89\\xf2\\x99\\xd2\\x9a_\\xc3\\x9bM>\\x85t\\xf7\\x06}@\\xa7X\\x9b#\\xc2\\xe3Dh\\xda4\\x91\\xccu\\xad\\xc6om+\\xe1u\\xb3n\\xce7\\x88\\x10b\\xd6\\x1d\\x96\\xdb\\x1f\\xeaP]\\x80\\x1d4\\xb6|\\xa6\\xb3\\xab\\xc0\\x94\\x1a\\x930G\\xd4\\xcb\\x1egcW\\x9e\\x01\\x8d\\xeex.>\\xdc\\xc9|\\x81T\\x11$]+i\\x8c\\t\\x83\\x07\\xedTkoqH$?\\x84\\x05\\x03.\\x83\\xcaA\\xdf\\xce\\xb3kP\\xf7\\x0c\\xa2\\xd9\\xc8\\xc5\\x8b,\\x0f\\t\\x83:ny\\rO\\xd3\\xce\\x9d\\xf1~ \\xca\\xb6\\xd9sf\\x82\\xad\\xa9\\x96Rg\\xdc\\xcc\\xfa\\xcd9\\xec\\xfb.V\\xcf\\x94=\\xc92A2\\x06\\xc0\\x0f\\xc5\\xa6\\xbau\\xa8>*X\\xde*\\x8c2\\x89\\x93\\x00o\"\\x00\\x1a\\x03\\xbdfrt{\\x81\\xe29X\\xb9\\n\\xd1\\x9b\\xe6\\xd3~\\x7f\\xbe\\xbet\\xda\\xe6)m\\x83\\xdd\\x9f\\x1b,\\x11\\xbe\\xccd\\xed\\xe1\\x11\\x94k\\xd0\\xc4\\xd2B\\xc3dh$N\\x84\\xf3\\xf4\\x9e\\\\\\xaa{\\xb1=\\x93lM\\xc5\\xb7\\x98 |\\xd9\\x9f2\\x93\\x94,\\x9f\\x01\\xd7S\\xa0\\'\\xd7\\x95hT\\x87c\\xac\\xdb\\xff\\x00\\xa6\\xf1,Q\\xc8/\\xaa\\x0bjJ\\x80\\x02\\xdc\\x1b+\\x7fSj6\\x1b.\\xb0j\\x86\\x1b\\xe6\\xd0\\x1f\\x97\\xa7\\xadMc\\xd2\\xed\\xbbwpz\\xdb\\xcaF{~%/\\x93\\xc4\\xa5\\xd4\\xc6\\x9a\\xc8&d\\x10v5\\x17c\\x82\\xddt\\xcc\\xb0<\\xb3\\x19>\\xc0U\\xe5\\x17\\x8d!\\xde\\x0c\\x82\"d\\xe9\\xccH\\x11\\xf65r\\xecge\\xef\\xe2\\xf0\\xb8\\xab\\xd8`\\r\\xdbwl\\xaa!!\\x03\\x0c\\xac\\\\\\x02\\xda\\x03\\xe2R$\\xf2\\xaa}\\x9b$\\xbco\\x1a\\x11\\xb4F\\x87O\\xed^\\xb2\\xe1\\\\6\\xce\\x1e\\xd8\\xb7b\\xdaZM\\xf2\\xa2\\x85\\x12w:s\\xa1N\\x14D\\xec.\\x16\\xcf\\r\\xb6\\xbcI\\r\\xe6\\xb0.\\xbb\\x1b]\\xec\\xa7z\\xd9\\xd9W!\\x92\\xab\\x03S\\xa6\\x84\\xe9^~\\xc5\\x0f\\x1c\\x89\\xe5\\x13\\x04\\xea\\x04\\xfa\\xeb1\\xe5\\x15\\xec\\x0cm\\xabom\\xd2\\xe8\\rm\\x95\\x83\\xa9\\xe6\\xa4x\\x86\\x9eS^S\\xed\\x0f\\x11K\\xd8\\x9b\\xb7\\x85\\xb0\\xb6\\xee\\\\vP\\xa2\\n\\xab\\x12@\\x1a\\xc4\\xeb\\xe9\\xadH\\xca\\xc5\\xc2\\x00\\x90\\x86<\\x80i= \\xcd[;\\x11\\xc7\\xce\\x1b\\x19\\x87\\xba\\x08\\n\\xde\\x0b\\xa4\\xec\\x10\\xb0\\x06I\\xe5\\xaf\\xb4\\n\\xa6w\\xc8>P\\xdeS\\xfa\\xd6\\x9d\\xf0o\\x85\\xe1q/xb,\\x97\\x06\\xd1PX\\x12\\x8a&X\\xcf\\xe00\\x041\\xd7x\\xac\\x98\\xaev\\xd7\\x05z\\xf6/\\x11y2\\xb5\\xbb\\xb8\\x8cqB\\x0f\\xe1\\xc1\\xaa\\xb5\\xd6\\xda2\\xe4\\xcaGX\\x8a\\xa7a\\xd4\\x12d\\x81\\xd3\\x94\\xf5\\xab\\xff\\x00\\x0b\\xc1\\xdd\\x19\\xdc\\x9f\\xe4\\x1c7\\x1bk \\xb0h\\xf0\\x1bL\\xde\\xa4\\x94\\x1a\\xef\\x15F\\xbb\\x83\\xcb\\x03s\\x03Q\\xe6+^\\x803I\\x891\\xcb\\xd7\\xcb\\x9dZ;\\x05\\xc2-_\\xc6Y\\xb5\\x88\\xce\\x11\\xdba\\xe1,`\\xc0\\x13\\xaeRbH\\xd4\\t\\xf5\\xa8\\xce\\xceaW9b\\xba\\r\\x01\\xdeH\\xfdkX\\xf8Id\\x7f\\x10`|\\xb6\\x9bN`\\x92\\xa3\\x9e\\xa0o\\xa7\\xa5\\x1b:\\xadZ\\xda\\x00\\x00\\x02\\x00\\x00\\x009\\x01\\xa0\\x02\\x94\\x14j\\xe1F\\xd6\\x94\\xecwg\\xeea\\x10\\xe20l\\xcdqK3\\xdb2V\\xe2\\xc9$*\\x89*b\\x04\\r\\x0cm5\\x99\\xfcD\\xe3O\\x8d\\xc5e\\xb2\\xac\\xde\\x14\\xb5m\\x17\\xc4\\xc5\\x8e\\xac\\xbe\\x13\\x1f1#}`V\\xf8\\xcb \\x8e\\xbd7\\xf6\\xac\\x87\\x19\\xd8>)i\\xe3\\x0el\\xdc\\xb6\\xad\\x99\\t|\\xac#Q24oB}hk{e8\\x8c\\x15\\xcc3\\\\\\xb1}J2\\xb0\\x17\\x16U\\x88*4YRT\\xfc\\xdc\\x8d5F\\\\\\xb3\\x94k\\xae\\xba\\xc7!\\xefO8\\xa64\\xdf\\xb8\\xf7\\\\\\x05b\\xec^?\\xa8\\x99&\\x0f3?Y\\xa8\\xdb\\xd8\\xa4\\xca\\x14\\xa9\\x9042z\\x99\\xd3\\xe9Z\\xbbfY\\xb1\\x99W(\\'~\\x9a\\xc8\\x1b\\xfd<\\xea_\\x05t\\xdb\\xb7n\\xf5\\xa2Q\\xd5\\xf2\\xe6\\x1a\\x15:\\x15!\\xbd\\xfe\\x86\\xa0m\\xb2\\x999\\xb9m\\xfd\\xb5\\xa7\\xd8t-\\x08\\x1b4\\xec\\x14L\\x111\\xae\\xdc\\xfa\\xd6il=\\xb2\\xec\\xee/\\x1dg\\t\\x8e\\xb5j\\xd32\\xe1\\x95\\xefel\\x97]\\x88\\r\\x02FVQ\\xacI\\x9dXt\\xabw\\xc3^\"1\\x18\\x0bL\\x18\\xb3\\t\\x0f\\xce\\t2\\x00\\xe8\\xb0DT\\xff\\x00\\x06\\xc2\\x0bV-ZRJ\\xa2(\\x04\\x991\\x1dj\\x8f\\xda\\xae\\xcfb\\xed\\xdf/\\x80\\x04%\\xdf\\x13\\xaa\\x0c\\xb0\\xe3C\\xa0\\xe4w\\xf5-U\\xca\\xa9%:\\xed\\xbf\\x19KVE\\x92\\xc33C6b>E;\\x9dy\\xb0\\x1fCY\\x06\\'\\x88=\\xb4\\xb8ABn\\xab+0\\x19\\x99C\\x0c\\xac\\x14\\x9f\\x97}\\xd6\\x0e\\x9b\\xd5\\x97\\xe3\\x16\\x1d\\xbb\\xcc=\\xd1\\x11\\x95\\x96:\\x95uo\\xd6\\xa88\\x1e\\x1f\\x89\\xc4\\x86\\x16-5\\xd6Xf\\xcb\\x04\\xe52&\\'Y\\xfb\\xd6\\xfd\\xed]x\\xc8\\x87pD\\x8f}:H\\xfd\\xfbS\\x86\\xe2\\x06\\'rH\\xd0\\xc9\\xf9F\\xbfRh\\xb8\\xdc\\x0e\"\\xd3M\\xcbW-7,\\xcaVcC\\x13\\xbf*h\\x0b\\x83\\xac\\x89\\xea>\\xd4\\xd8\\xcc:\\xb5|\\x97\\xcew\\x1edO\\x900zU\\xb5\\xbbCi.\\xa8H\\xdb#<\\x004RH\\x9d\\xc8\\x04\\xfe~u\\x19\\xc1\\xf8\\x17}\\x7f\\xb9Udd@\\xec\\xad\\xa8\\xfeZ\\x06\\xb8\\x1bY\\x12`i;\\xc4S\\xe4\\xb2\\x82\\xe3\\x96E1\\x93\\xc2Tj\\xa4Ha\" \\xeb\\xa8\\xe9T\\x82\\xd11\\xf8as\\nr)fO\\x12\\xb6\\xb2\\xa0K4\\x7f\\x94\\x8d}\\xa9\\xbfd\\xee[\\xb8\\xa6\\xcd\\xd1\\xe1\\xd4i\\xb9\\x9dV<\\xfeh\\x8e\\x95o\\xe3x\\xab\\x16\\xee\\x1e\\xe6\\x0e\\x1f\"\\x1bg\\xf1d*<\\'\\xd3U\\x8f\\xf2\\x8a\\xcc\\xb0\\xb7M\\xbb\\xac\\x14\\x90\\x08`:\\xc6\\xeb\\xef\\xcb\\xde\\xab\\xc9\\xe8\\xfb\\x1c\\xa6\\xd8eV9I\\x89\\x82$f\\xd3C\\xb1\\xd2\\x95\\xe1\\xf8\\'d\\x17\\x1eE\\xa9\\xf0\\x83\\x007-\\t#M#\\xce\\x87\\x84\\x84\\xb8\\xe1n\\x14\\xca\\x873f )\\x83 jcs\\xb7\\xad<\\xe3<h\\\\\\xb8\\xa8\\xb1\\xdd\\xa2\\x89\\xcb\\xe1\\x0cL\\r\\x00\\xd3@k\\x19^[\\xc6o\\x1d\\xd11\\x18\\xf1j`\\xcb~\\x11$\\x90v\\xdc\\x12\\xa2$\\xecgZ\\x8e\\xbdp\\x80<D\\xc8\\xf1\\r\\xe1\\xbdi\\xd6\\x13\\x1e\\xaaJ\\xca\\x08#C\\xf8\\x81\\xe5\\x11\\xe7\\xe4E6\\xc4b\\xe5H3\\xe1\\'!\\x1a\\xe8\\xd2H$\\xeb\\x13\\x07\\xdc\\xd3+6\\x1ew\\x90\\xba\\x1d\\x08\\x92\\x0f\\xbf\\xf6\\xab\\xc7`x\\xf5\\xbc-\\xbb\\x98\\xab\\xb7U\\xee\\x04e\\xb7\\x87\\x0c\\x80\\xea\\xc0\\xe6f\\'\\xc26\\x11\\xbc\\x02u\\xd0Vs\\x7f\\xe5\\x1a\\xfe\\x11\\xf6\\xa5\\xaf\\xe3,\\xf7b\\xc9\\xb4\\x14\\x89\\xcfs k\\x84\\xe8ft m\\xa6\\xd1\\xebZ\\xe2\\x8d\\xdcZ\\x88\\xed_\\x0b\\xb9\\x99\\xf18\\'\\xbfz\\xe0=\\xe5\\xd6\\x18r\\xc2W.[Sw\\xf9h\\x04\\x05\\x03\\xd4\\xc9$\\x9a\\x1b^\\xb6\\xa3*\\x88\\xb5:+4\\x11\\xafPc\\x95V;\\x94\\xe5t\\xfb\\xa7\\xf65\\xd8w \\xcc\\x86\\x1e\\xe3\\xf4\\xd2\\xab\\x04\\xba]{5\\xc1;\\xecV\\x10\\xa0\\x84k\\xd6\\xd5\\xcc\\xc9*\\x0eb\\xd1\\x1a\\x08X\\xf7\\xafH\\xcdy\\x7f\\xb1\\xbcF\\xf2\\xe2\\xb0\\xc2\\xd9ecv\\xda)\\x1c\\xb30]F\\xc4C\\x19\\xafP\\xe6\\xac\\xec\\xa3;O\\x8a\\x16\\xb0x\\x9b\\x84\\x81\\x96\\xcd\\xd2&7\\xc8@\\x1a\\xf50+\\xcaW,\\x1d\\x80\\x9a\\xde\\xfe8g\\x18+w\\x14h\\xb7\\x80s\\xbc\\x07VQ\\xa1\\xd3x\\x13\\xe7XU\\x8bW/8\\xb5iK\\xbb\\xb0TQ\\xbb1\\xd8yR\\x8c\\xec\\xa0&2\\xeb\\xd4\\xec=\\x86\\xf5r\\xec\\xf6.\\xf5\\xab\\x18\\x8bV\\x01-~\\xd3Z+ H\\xb9\\xe0\\x04\\t\\x9c\\xc0\\x9d>\\x9c\\xea\\xdd\\xdao\\x85\\x89k\\x87\\xda{\\x04\\x7f\\x11\\x87\\xb6\\xcd|\\x81\\xfe<\\xf8\\xda\\x08\\xd6T\\xce_\\xf2\\xe9\\xd2\\xa8\\xbd\\x99\\xc5\\xf77\\xed\\xbb)\\xc8\\xb7\\x11\\x9d\\x80\\xd7\\xc2\\xc0\\xe8\\x7f\\x16\\x83\\xf3\\xa2\\xa5z\\xee\\x03\\x10.\\x1b\\rn\\xefz\\x18\\x8e\\xe7#g\\x93\\x04\\xf8\"u\\x80v\\xe4*C\\x8e\\xf0\\x8b\\xb8aen[{N\\xd6C:\\xb8\\x83\\x9b\\xbc\\xb8\\xb3\\xe5*\\x10\\xc7,\\xde\\x95\\xe9\\x8c\\'\\x0b\\xc0\\xdd\\xbc\\xbcB\\xdd\\xbbMu\\x94e\\xbe\\xba\\xca\\x95\\xca\\x18\\x1d\\xa7/\\x86w\\x8d*\\x8d\\xf1\\xeb\\x84\\xb5\\xcc5\\x8cB\\t\\xee]\\x95\\xfc\\x92\\xe8X>\\x99\\xad\\xa8\\xff\\x00p\\xabkL\\xab\\xb3\\x97\\x90&Wh\\x19\\x8c\\x08\\x07\\xef\\xbc\\xf4\\xad\\xb3\\xe1>\\x16\\xc9\\xb5w\\x11l\\xb1b\\xfd\\xd9$\\x05\\x80\\xa04\\x01\\xbe\\xb9\\xb9\\xf4\\x15\\xe7\\xfb-\\xa0S\\xb4\\x9e_z\\xd8\\xbe\\x07cHlF\\x1c\\xb1\\x82\\x16\\xe0\\x04\\xcc\\x10r7\\xe4W\\xe9Y\\xad\\xfaku\\xd5\\xd3A5\\x00\\xd0\\x13CHc\\xb1\\x02\\xdd\\xb7\\xb8\\xc1\\x98\"\\x96!D\\x92\\x00\\x93\\x02\\xa4\\xf2\\x85\\xcbn\\xd7_MX\\xb9#\\x94\\x92I\\xdf\\xd4\\xd4u\\xdb\\x19\\tVQ\\xaf?\\xd4\\x1a\\x96\\xc4\\xde\\x06\\xf3\\xad\\xb9\\x19\\x99\\x82j\\x0bef!T\\x9d\\xa6 SLN\\x16\\xed\\xaba\\x99\\x0e@\\xd9C\\xe8Fb\\x0b\\x00\\x0fX\\xd7\\xda\\x99\\xb1\\xc2<ZA<\\xcf!\\xcak@\\xecw\\x0cC\\x90\\xba#\\x03\\xe2\\xca\\xdb\\xe8F\\xb3\\xb7\\xb1\\xd0\\xf9V}d\\xe6q\\x9bi\\xff\\x00\\xdd_\\xb8F1\\xad\\xba\\xcb*@\\x80\\xc4\\xe9\\x97C\\x1f)\\xfa\\x1a\\xa9\\xc5\\xe8\\xa5\\xb9 \\x11\\xb1\\x00\\xfdk\\xa6\\xa2\\xbb3\\x8b[\\xb8kN\\x91\\x10WH\\x89S\\x94\\xed\\xb6\\xd3\\xefRMDL\\x93\\xe2\\xf2+am6`\\n\\xdd\\x00\\x0ed03\\x1e\\x99A\\xf6\\xa8O\\x84\\xc0[\\xc5\\xdc\\x19\\x81\\x17-\\x12\\x91\\xca\\x19K)\\xe9S=\\xaa\\x0b\\x88\\xc2\\xdd\\xb6\\xd0a\\x0b/P\\xeb\\xaa\\x91\\xef\\xfa\\xd5/\\xe1[\\xbd\\xacM\\xd2A\\x13k] Hq\\xcf\\xd8\\xedX\\x9f$\\xcb\\x1d\\xab\\xd2c\\xe32\\x91s\\x0eF\\xdf\\xcf\\xd6:\\xf7F*\\x87\\x86\\xcfp\\xad\\xbbk7\\x1b\\xe5\\x03y\\x12g\\xd7O\\xad]\\xfe!^\\xef\\xee\\xdaMOv\\x8f u\\xb8W(\\x1e~\\x0f\\xa1\\xa8\\x8e\\xc7\\xf0a\\xfcW\\xf3\\x01\\x84R\\xc4\\xab\\xb2\\x10H\\xf0\\xf8\\x90\\x825n]\\rk\\xec\\x96l\\x7f\\xc5\\x8b\\xe1&\\n\\xe6\\\\e\\xf6\\xb6\\xc1\\x8d\\xa0\\x96\\xcbh\\xccNvx-\\xd4\\x84\\xd7\\xa8\\xf2\\xaa\\xe7\\r\\xe2\\x11g+.uf/\\x04\\xc6\\xe4\\x99V\\x1f!\\xdb]A\\xe6\\x0e\\xd5\\xa3\\xdc\\xb6\\x16\\xd5\\xd5\\xb5\\x99Y\\xd1\\x809\\xdc\\xc300un\\xacN\\xa7\\x9dR\\xacvY\\xd4\\x80\\xc2TD\\x80`\\x907\\x1e\\xbc\\xa9\\xc3\\xe5\\xc7\\xf4e)\\x9fj\\xf8\\x91\\xfe\\x0e\\xcd\\xb2\\x8a\\xb9\\x0c#O\\xf3Z\\xcb\\x96u,\\x17@$\\x10\\x0e\\xfb\\x1euZ\\xed\\x17\\x07\\xb9\\x85\\xee\\x1a\\xe9\\x02\\xed\\xc4\\xef\\r\\xbd\\xda\\xda\\xcf\\xf2\\xf3\\xf9\\x98&9T\\xafh\\xb1\\xeds\\x11\\x92\\xf5\\xa0\\x8cQ\\x14\\x00U\\x94\\x80\\xa0\\xdb:\\x01\\x13\\x00EV\\xf1\\xd8\\xce\\xf5\\xde\\xe5\\xc6ww2I\\xeb=d\\xe8\\x06\\x91\\xd2\\xb7\\xbd\\x84\\xff\\x00\\x07\\xec\\xbd\\xdb\\xf8lN-U\\x8d\\xbbAr\\x80>rYY\\xa3\\x9c\"\\x12\\xc6<\\xbc\\xea\\x1a\\xc2\\x8d\\t\\xe7\\xb7\\xd25\\xf2\\xab\\xcf\\xc3\\xce\\xdf\\xdb\\xc1\\xd86/\\xb32\\x86&\\xda\\xaaNPd\\xb4\\xb1:\\xc93\\x11\\xa6\\xbdt\\xa6\\xf6\\x93\\x89\\xad\\xecU\\xeb\\xaaX\\xab\\xb9d\\x90\\x01\\x0b\\xb2\\x88\\x10\\x04\\r#\\xa0\\x15\\x9b\\xcbR\\xf0\\x98\\xecgd\\xce?\\x10\\xea\\xcem\\xdb\\xb6\\x17;\\x08f%\\x89\\n\\xab:~\\x13\\xae\\xbf/\\x9d)\\xf1\\x03\\xb3\\x0b\\x82\\xc4\\x9bV\\x8bwe\\x15\\x931\\x04\\x90D\\x12O3\\x99Z\\xad\\x7f\\x07QB_\\xbb\\xb4\\xbd\\xb5\\x89\\xfe\\x84\\xcd?W\\xa8\\xef\\x8b\\xf8O\\xe7\\x8cLf\\x0e\\xa1tb#$\\t\\xdbO\\x99y\\xf2\\xaae:\\x1d\\xa9\\xb8K\\xd9\\xb2\\xa6] \\x033\\xf5\\xf2\\xad\\xe3\\xb3}\\x9b\\xc2_\\xc2a\\xce#\\rj\\xe3\\x0b\\x16\\x84\\xbd\\xb5-\\x19F\\x99\\xa2k\\r\\xc2\\xe1\\xee\\xe6@\\x80;8V\\xc9\\xf3\\x96\\x91\\xb1+\\xa8>\\\\\\xbaW\\xa10x\\xe5\\xc2\\xe1\\xec\\x87G\\xf9-(E\\x19\\xd8B\\x80zH\\x1c\\xc8\\xe9N\\xf5\\xda\\xd6\\xfas\\xf6/\\x86\\x00K`\\xb0\\xc0\\x01$\\xf7j \\r\\xc91^l\\xe2\\xb7\\x12\\xee\"\\xf3\\xdaP\\x96\\xcb\\xdckj\\xa3(T\\xccr\\x00=\"\\xb7\\xcf\\x8a\\x9cm\\x93\\x86\\xdc6n*\\x97d\\xb6gr\\x8c\\xc5\\\\.\\xa2\\x0e\\x87^\\x80\\xfa\\xd6\\x0f\\xc28s\\xdd\\x17\\xd9L-\\x9b/q\\x9a\\t\\x1e\\x12!}I1\\xf5\\xabis\\xf8\\x1f\\x80\\x17x\\x80v\\x0cE\\x9bop\\x13\\xb0}\\x10~NO\\xb5z\\x03\\x13\\x88[h\\xd7\\x1d\\x82\\xa2\\x82\\xcc\\xc7@\\x14\\t$\\xd6C\\xf0\\x12\\xd0\\xcb\\x88\\xbeX\\xcc\\xad\\xac\\xb1\\xa4\\x00\\x1f4\\xfb\\xc4yS\\x9f\\x8c]\\xb2\\xbbg6\\x0e\\xda\\xafwv\\xcf\\x8d\\x88\\x92s\\x96\\x07)\\x98\\x10\\x07Nu%+\\xb6\\xfd\\xb4\\xb9\\x8f\\xb8d\\x94\\xb4>Kz\\x88^E\\xba\\xb1\\xd0\\x93\\xedW?\\x82\\xdd\\x92e\\'\\x1fybT\\xae\\x1c\\x11\\x06\\x0e\\x8ds\\xd0\\x8d\\x07\\x94\\x9eu\\x11\\xf0\\xcf\\xb0Mu\\xb0\\xfcB\\xfb \\xb4\\x1b:\\xd9#1p\\xb3\\x91\\x89\\xd9F`\\x0ck \\x0e\\xb5\\xb6\\x0b\\xe3\\xad\\x08\\xb5y\\xcf\\xb6\\xf8.\\xe3\\x1f\\x7f\\x0e# |\\xcb\\x97H\\x17\\x00\\xb8\\xa26\\xd0<G\\x95z%n\\x83Xo\\xc5^\\x1a\\xf6\\xb1\\xefy\\xd5\\xda\\xdd\\xfc\\x86\\xdb\\xaeX\\x94EVBN\\xd1\\x96v\\xd4\\x1fZ\\xbbQ|\\xf86\\xec0Oi\\xa7\\xf9w[,\\xff\\x00K\\xaa\\xb6\\x9d\\x04\\xe6\\xfa\\xd5\\x8f\\xb6Xss\\x01\\x8a\\xb6\\xa6\\x0bX\\xba?\\xf1$\\x8f)\\x88\\xf7\\xaa\\xef\\xc2,-\\xe4\\xc2\\xbb\\xddR\\xabq\\x95\\xac\\xceY)\\x94\\t\\x80L\\x0f]j\\xdd\\xc60}\\xf6\\x1e\\xf5\\x9c\\xd9{\\xdbw-\\xcfL\\xeaV\\x7f:\\x8b\\xcb\\x16-\\xcf\\xb7\\xa5j\\x1f\\x05Q\\x9b\\x15z\\xe4h\\xb6\\x021\\xea\\xcc\\xcb\\x97\\xde\\x10\\xd6m\\xc7xm\\xfc-\\xf6\\xb3\\x88\\xb7\\x92\\xe0\\x19\\xa30`T\\xc8\\x0c\\xa4hT\\xc1\\xad\\xab\\xe0\\x95\\xb5\\xfe\\x01\\xae\\x05\\x82\\xf7\\x9eO\\xf5\\x05U\\x02<\\x84\\x91\\xeb5\\x08\\xd1&\\x86i0\\xc2\\x84\\x9a\\x1a\\x1f5E\\xf6\\xa3\\x8c\\xff\\x00\\x0b\\x85\\xbb\\x88\\xcb\\x9b \\x00/Vv\\x08\\xbf\\x9b\\n\\x90\\xcdY\\xa7\\xc7\\x1e3r\\xce\\x1e\\xc5\\xa5\\xd1n\\xbb\\x17=E\\xac\\xac\\xab\\xf5 \\xff\\x00\\xb4T\\x98\\xb5\\xf7dv\\x82F\\xba\\xf2\\x9df\\x08\\xe6<\\xabC\\xec\\x07g\\xedc869o\\x1c\\x91y\\xae%\\xc3##\\xdb\\xb2\\x08b\\x06\\xea%\\x81\\x1d\\t\\xaa)\\xe1\\xf7Z\\xda\\\\[7\\x9d.H\\xb6\\xe1\\x19\\xa7)\\xcaVD\\xea\\x08\\x8a\\xd8;3\\xd9\\xbb\\xd8^\\t\\x8a[\\x92\\x97/Z\\xbdp\\xa1\\xff\\x00\\xe3\\x1d\\xd9\\x01c\\xfa\\x8a\\xae\\xbeg\\xca\\x91\\xa6#\\xc3\\xad\\x81u\\x0b\\x83\\x13\\xaa\\xf9\\r\\xff\\x00*\\xbb|E\\xc2Y\\xfe3>\\x1d\\x94[\\xbbf\\xc5\\xdby@\\x00+\\xacz\\x92J\\x16\\'\\xfc\\xde\\xb5G\\xb4\\xf9_}?8\\x9a\\xb0\\xf6\\x9b\\x16\\xc1\\xb0\\xac#!\\xc2Z\\xd3]|W\\x03\\x7f\\xe4\\x1b\\xe9A\\xed\\xa1|\\x18\\xe2n\\x97\\xae\\xe0\\xd9\\x8b!N\\xf5\\'\\x93\\x02\\x03G\\xa8?\\xf8\\xd6\\xb2V\\xb0\\x7f\\x84.[\\x88\\xday2-\\xde\\x07M2\\xe5\\x99\\'\\xa80#\\xce\\xb7|\\xd5\\x1d21i\\xb5R$r\\xdb\\xf3\\xfe\\xd4{\\x18\\x05\\x072\\xa8\\x06 \\x91\\xa6\\x9eTU\\xba\\xe3e\\xfa\\xee<\\xa9\\xdd\\xb60$k\\xed\\x15\\xf3cz3\\xbf\\xc3\\x15\\xb5;\\xe9\\xe2\\x9dt\\xdb\\xfbWa\\xb0(\\x8e\\n\\x8d`\\xf2\\xdci\\xbe\\xbb\\xd3\\xd5\\xb8<\\xcco\\xa7\\xeb@q1\\xa9\\x1aiF\\xd6\\x9c\\x03\\x01\\x1b\\xf9\\xff\\x00j\\xe5!\\x84\\xea\\x0cQ\\x1f\\x10\\x06\\x91\\xe7\\x1b\\xd0\\x8b\\xaa9{\\xf4\\xac\\xab\\x10\\x9c[\\xb36\\xaf\\x90\\xfa\\x87\\xf0\\x92\\xe3\\x7f\\x08\\xf0\\x8a\\xaec;\\n\\xc5\\x98\\xa1\\x10\\xd9\\x8c6\\x9a\\xf4\\xdc\\xe9\\xac\\xfb\\n\\xd0\\x15\\xa4hE(\\x04@$~\\xfe\\xf5\\xda|\\xd9\\xe3;\\x1e1\\x9a`\\xfb\\x0c\\xdb\\x12s\\r\\xc7.z\\x03\\xcf\\x95\\x06\\x17\\xb0l\\xca\\x19\\x98\\x82\\x0e\\xdaA\\x1b\\xfb~\\xb3\\xca\\xb4\\x87\\xbe\\xab&\\x06\\x9b\\xd1m\\xde\\xcd\\xb1\\xd3]zM?\\xc9\\xc8x\\xc5K\\x80\\xe0/\\xe1sZV\\x85c\\x98J\\xec\\',\\xce\\xf3\\xa6\\xd5\\x1d\\xda6\\xc4\\x94ap\\x1b\\x846\\x9c\\xc2\\xc9\\xcaG\\x96\\xb1\\x15\\xa2[\\xba\\xbc\\xc0\\xff\\x00\\xd7\\x9d,\\xaa\\xb1\"4\\xdf\\xf2\\xfe\\xd5c\\xfeF\\xae\\xf4\\xae1\\x9b\\xf6o\\x05\\x88\\r\\xdej\\x0e|\\xab+\\xb0o\\x0e\\xbd\"c\\xde\\xad\\xf6\\xf8~ \"X\\xeft\\x08\\xd32\\xc310\\xb3\\xac\\x906\\xa9\\xa4E\\xdcs\\xfb\\xf24v\\x1a\\xe6\\xea~\\x9db\\xac\\xbek\\x97\\'\\x1cd\\xe5\\x97\\xf6\\xa7\\x07\\x89[)b\\xf1\\xcc$\\x95l\\xccJ\\x80\\xeea\\xb3\\x1f\\xf3\\x98=\\r;\\xc0\\xe0\\xf2p\\xe6\\xb6\\x04\\x12\\xf1x\\x81\\xe2e&T\\x1e\\xa3P>\\xb5\\xa0b\\xb0\\x8a\\xe6Z\\x08\\x88#\\x97\\xd2\\x86\\xde\\t@\\xca\\xbbn+S\\xe7\\xe3J\\xe3\\xbb\\xb53\\xe1\\xbbwIp#|\\xe4\\x18\\x12\\',\\x89\\xd7\\xd4S>\\xdb\\xe0\\xefb/\\xb12@\\xb6\\x82\\xd9;|\\xc6G\\xe6O\\xd2\\xaf\\xdf\\xc0\\x81\\xb6\\xbc\\xa8\\x1f\\x0c\\xac`\\x80F\\xfa\\xeb\\xb6\\xbf\\xf3W\\xdd|\\xb6<8\\x0f\\n\\xc4\\xb5\\xbb\\x16\\x91tU\\xb6\\x8a\\x07HP)\\xe7\\xfdU\\xc6\\xa6i\\xaa\\xa4jyM\\x13\\xc4yu\\xac}\\xb5j$\\x13\\x8c\\\\\\x1e\\xf5O\\xf8\\xa7\\x8b{\\xf8k:\\x1f\\r\\xe1\\xf4da\\xaf\\xbf\\xde\\xac\\x96\\xed\\xc8\\xa4q8E\\xb8\\xb9\\\\\\x08$\\x1e\\xba\\x8d\\xabx\\xfc\\xd6\\x1b\\x84T\\xb8G\\xc4\\xf7\\xc2al\\xd8K9\\xfb\\xa1\\x95\\x98\\xb4L\\x12@On\\xbfJ\\xd3mv\\x95YT\\x83\\xab\\x00`\\xf9\\x8a\\xa4\\x9e\\xc9\\xd8\\xcc\\xa7\\xbb\\r\\r\\x98L\\xc4\\xf5#c\\xbe\\xde\\x957\\xfc\\x001\\'m4\\x15\\xd2\\xfc\\xbb\\xfe\\xac\\xccY\\xc7\\xc4\\xecr^\\xc7\\xb3\\xbbe\\x02\\xd5\\xb4\\x103\\x19\\x12\\xc7O\\xf7U\\xfb\\xe1_\\x13\\xb7k\\x04-\\x86\\x04w\\xaeA\\xdas\\x05\\xe5\\xc8\\xd5_\\xb5\\x9d\\x88{\\xf7E\\xdbEL\\x80\\x1b1\"\\x08\\xd8\\xfd4\\xa9\\x0e\\x01\\xc0n\\xe1l\\x0bq\\xde\\x1c\\xccX\\xa9\\x00\\x19\\xe8\\t\\xf2\\x02\\xb5~]a5\\xda\\xf1\\xe5\\xa6\\xaf\\x1a\\xb7\\xd6\\x94^.\\x87\\xf1oT\\x05\\xcf\\xce\\xdb\\xaf\\xb5\\x0f|\\xc0\\xc1\\x04r\\xae\\x7f}\\xf7\\x17\\x8a\\xfex\\xb2\\x7fUAv\\xbf\\x85a\\xb8\\x8d\\x91j\\xf32\\xe4p\\xc8\\xe8@e0A\\x8c\\xc0\\x82\\x08:\\x88\\xe9\\xd2\\xab\\xcfu\\xa6\\x04\\xfd\\xa95\\xc5\\xb6\\xbb\\x8a\\xbf\\x90|W~\\x08l\\xe1\\xec[\\xb1gD\\xb62\\xa8\\x9dt\\xdc\\x93\\xcc\\x92I\\x9f:[\\x89\\xdd\\xefl^\\xb4\\xa4\\x02\\xf6\\xee \\x9eE\\xd0\\xa8\\'\\xebTK\\\\H\\x13\\xccG\\xb5.1m\\xa9\\xcd\\xf9\\xefO\\xf2\"\\xf1\\xac?\\x16\\x8c\\xae\\xc9\\x048l\\xac\\xba\\x02\\x19ta\\x13\\xbc\\x82*\\xdf\\x8a\\xba\\xaf\\xc1\\xd5\\x99\\x08\\xbb\\x85\\xbem\\xdb\\x93 \\xda\\xbf\\xe3*\\xdd@bH\\xe9\\xeej\\xa9\\xc7\\xbf\\xfb\\xdb\\xc7y\\xbbs\\xae\\xa4\\xb1\\xab\\x86:\\xc8n\\x0flI\\x05UnA\\xe6\\xd9\\x883\\xd7\\xe61\\xd3N\\x95\\xde\\xe5$\\x95\\x8eV\\xbf\\x81\\xea\\x86\\xcd\\xdcK\\x1f\\xe6g6T@\\n\\xa8\\x029\\x805\\x92[R\\x7f\\xa4V\\xa5\\xfcb\\xf5\\xaf4\\xf6g\\xb4x\\x9b\\x04[\\xc3+\\xb2\\x96\\x0c\\xc8\\xba\\x82L)\\'C\\x1a\\x009mZ\\xa3qf\\xfd\\xf2\\xfaQ\\xf2|\\x93\\x0b\\xc9\\x9b\\xa5\\xbf\\x83c\\xb3\\x0f\\xca\\x89o\\n\\x7f\\xadH\\xd8\\x88\\xfdE%\\x9dL\\x8c\\x8agy]+\\x8a\\xdb?\\x80\\x02&!F\\x9c\\xeb\\xc7~L]\\xfc\\xa1\\xd2\\xe1\\xfc3\\x01\\xb7\\xd4\\r=(\\x970\\xfa{\\x0f\\xdf\\xef\\xad5R5\\xd7\\xac~\\xfd\\xa8\\xc76\\x9e?\\xcb\\xfet\\xaew9\\xa1\\xe4S\\xba1\\xaf^\\xb34\\x0bf\\x011\\xb7I\\xfd)4Rb[QFkdH\\x0f\\x1f\\xbf*\\xcc\\xca~-\\x88U\\xff\\x00\\xfcm\\xae\\xc7M\\x7f:M.0\\x90\\xd6\\x9c\\xef\\x13\\xe5\\xe85\\xa7H\\xce\\xa3V\\x9fI\\xdb\\xac\\x0fjO\\x10\\xe4\\x0f\\x14\\xb4i\\x1a\\xf5\\xfc\\xe9\\xf2\\x92\\x0e\\x08\\xb8\\x92A\\xb7\\xa7Y\\x1fm\\xe6\\x9b\\x0bi\\xab\\x00\\xe8I:\\t\\xf30<\\xbf\\xb5<`\\x06\\xc7\\xf7\\xad+\\x00DO\\xe9\\xa8\\xac\\xec\"\\xbb\\xe5]u\\x8d\\xe6g\\xca5\\xfd\\xebO\\x15\\x86\\x84\\x16\\xf1\\t\\xdb\\xd3~\\\\\\xeaAn\\x88\\x96PH\\xdb\\x97\\xef\\xfe(\\xab\\x8aY\\xf9 \\r#\\xcbMi\\xd6\\'F\\x87\\x12\\xa7L\\xe0\\x1dy\\xd1\\xd9\\xd8\\x91\\x94\\x82\\x04\\x9d\\xe3\\x96\\x9eF\\x8cqJD\\x9bk\\xe5\\xb4\\xfd\\xa8V\\xf2\\x99\\x8bj\\t\\xe8#\\xd2j\\xff\\x00TN\\xde\"\\x01%\\xa3\\xcc\\xfayR\\xabq\\x8c0\\xd4u\\x14\\x16\\xb2\\x99\\x0e\\x82\\x01>^\\x87\\xd7J>kq\\xa2\\x98\\x11\\xb1\\'\\xed\\xedV\\xa6\\x91@\\xe6\\x0cR\\x03\\x1aA\\xdb\\xa0\\xf7\\xf3\\xa1\\xbbq\\x14\\x02\\t\\x83\\xe6z\\xd0\\x9b\\xe8H\\x00hy\\xc9\\x9fO:\\xa6\\x91\\xd5\\x8b\\xb3\\xa9\\x1e\\x7f\\xf3B\\xd1$\\x8f=)\\x04\\xbdeF\\xa7 \\x8d\\xcc\\x88\\xa5a\\x0e\\xa0\\xef\\xa9\\xd4\\xe9\\xa7\\x9f\\xad:\\xfc\\xa4!\\xa0lyi\\xfaQ\\x1b\\x13;\\x81\\xeb\\xe9\\xce\\x8f+\\xcaEr\\xc1\\xd1\\xb6\\x9f.\\x94j\\xfe\\xad\\x00\\\\\\x04G=(\\x1a\\xe1\\x1c\\xfa\\xf3\\xa2\\xb5\\x95\\xfe\\xad\\xfa\\xf2\\xf6\\xa3\\xae\\x0c\\xb8\\xf0\\xba\\xed<\\xeb^9U\\xa0+\\x1e{~t&\\xe9\\xa1\\xb9\\x81\\xb8\\xa0\\x9d#\\xd6 Q;\\xab\\xdaxG\\xb6\\xb5\\x9f\\x1c\\xa2\\xd1@t\\xd7\\xf6k\\xbb\\xce\\xb34\\x0c\\x97F\\xea\\xde\\x91\\xbf\\xa5\\x01-#2\\x91\\xea#\\xf7\\xb5;\\xce-\\rq\\xc6\\x93\\xfb\\xda\\x8a-\\x82t\\x8f\\xa2\\x9fJ\\x15`yI\\xfd\\xce\\x94g6\\xc8\\x98\\x1e\\xc6\\xbaL\\xf2\\x8bD\\xdb\\x0e40\\t\\xf3P\\x7fJ\\xe3\\x87\\x1d\\x17}\\xa3\\xfbQ\\x95\\x07\\x9co\\xff\\x005\\xc6:\\xcf\\xef\\xd6\\x8b\\x9d:T8\\x87b\\x0b\\xdc{\\xb6\\xdd\\x179bU\\x94\\x98-\\xa9\\x83>\\xbfZ{\\xc2{8\\xea\\xadf\\xff\\x00wr\\xc9\\xd1@\\x19L\\xc8:\\xc0\\x1d\\x0fZ\\x9e\\x925\\xd6\\'\\xfe)E\\xbd\\xe7\\xe7Z\\xfb\\xf2\\xd6\\xacg\\xc0\\xcf\\t\\xc0l\\xda\\x04ZE@z@\\x9f])U\\xc0\\x01\\xc8}\\xbfJ[\\xbe\\xf7\\xaek\\xc2\\xaf\\xb3\\x1fp\\xf3\\x11\\'s\\xe8+\\xac|\\xff\\x00\\xf6\\xd7WW\\x9a\\xb9\\xce\\xcb\\xf3oQ\\xf6\\xa2\\xbf\\xcak\\xab\\xab\\x04A\\xf3\\xaf\\xa3W\\'\\xcd]]Zg\\x10\\x8f\\x99\\xbd?QN\\xf9\\x8fQ\\xf6\\xae\\xae\\xa0\\x89\\x8e\\xdd}\\x1a\\x89goo\\xed]]Z\\xaav>\\'\\xf7\\xf9\\xd7\\x0f\\x99\\x7f}k\\xab\\xaa\\xc7\\xb6\\xe1\\xc7\\xe2\\x1e\\x87\\xedCw\\xf5\\x1fs]][\\xf4\\xd1\\xb1\\xdf\\xdcRi\\xf3\\x9f\\xf7\\xd7WS\\xe8B\\x8d\\xcb\\xd4\\xfe\\xb4\\x90\\xf9\\x87\\xb7\\xff\\x00\\xd5uub\\xb3{q\\xfc_\\xe9o\\xff\\x00SJ\\xe1v\\xf6\\x15\\xd5\\xd4\\xa8\\xeb\\xff\\x00\\xe2\\x7f\\xdbN-\\xff\\x00j\\xea\\xea\\xa1\\x02\\xec}W\\xefK`\\xf7?\\xbe\\x95\\xd5\\xd5\\xd3\\x06\\x8a\\xe2>O\\xa5\\x1b\\x86\\xff\\x00\\x85\\xf5\\xfdh+\\xab\\xb7\\xb2\\x95\\xb5\\xb0\\xf4\\xfd*:\\xee\\xe3\\xd7\\xf45\\xd5\\xd4\\xde\\x89\\xbe\\x1f\\xe6>\\xa7\\xf5\\xa7O\\xf2\\x1f\\xf5WWW/A\\x16~S\\xe8~\\xc6\\x816\\xf6\\xfe\\xf5\\xd5\\xd5\\xc7.\\xc1T\\xff\\x00\\x0f\\xeb\\xf7\\xa6m\\xf3\\x1fA\\xf6\\xae\\xae\\xab.\\x91\\x0c\\x17\\xf8\\x97}O\\xd9jI6\\x15\\xd5\\xd4R\\xff\\xd9'}"
            ]
          },
          "metadata": {},
          "execution_count": 2
        }
      ],
      "source": [
        "from google.colab import files\n",
        "files.upload()"
      ]
    }
  ]
}